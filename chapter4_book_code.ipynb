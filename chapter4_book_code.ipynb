{
 "cells": [
  {
   "cell_type": "markdown",
   "metadata": {},
   "source": [
    "# Linear Regression"
   ]
  },
  {
   "cell_type": "code",
   "execution_count": 25,
   "metadata": {
    "collapsed": false
   },
   "outputs": [
    {
     "data": {
      "image/png": "[encoded data removed]",
      "text/plain": [
       "<matplotlib.figure.Figure at 0x2b67ac07dd8>"
      ]
     },
     "metadata": {},
     "output_type": "display_data"
    }
   ],
   "source": [
    "import numpy as np\n",
    "import matplotlib.pyplot as plt\n",
    "X = 2 * np.random.rand(100,1)\n",
    "y = 4 + 3 * X + np.random.rand(100,1)\n",
    "plt.plot(X,y,\".\")\n",
    "plt.show()"
   ]
  },
  {
   "cell_type": "code",
   "execution_count": 2,
   "metadata": {
    "collapsed": false
   },
   "outputs": [
    {
     "data": {
      "text/plain": [
       "array([[ 4.48825922],\n",
       "       [ 2.99296262]])"
      ]
     },
     "execution_count": 2,
     "metadata": {},
     "output_type": "execute_result"
    }
   ],
   "source": [
    "X_b = np.c_[np.ones((100,1)),X]\n",
    "theta_best = np.linalg.inv(X_b.T.dot(X_b)).dot(X_b.T).dot(y)\n",
    "theta_best"
   ]
  },
  {
   "cell_type": "code",
   "execution_count": 3,
   "metadata": {
    "collapsed": false
   },
   "outputs": [
    {
     "data": {
      "text/plain": [
       "array([[  4.48825922],\n",
       "       [ 10.47418447]])"
      ]
     },
     "execution_count": 3,
     "metadata": {},
     "output_type": "execute_result"
    }
   ],
   "source": [
    "X_new = np.array([[0],[2]])\n",
    "X_new_b = np.c_[np.ones((2,1)), X_new]\n",
    "y_predict = X_new_b.dot(theta_best)\n",
    "y_predict"
   ]
  },
  {
   "cell_type": "code",
   "execution_count": 4,
   "metadata": {
    "collapsed": false
   },
   "outputs": [
    {
     "data": {
      "image/png": "[encoded data removed]",
      "text/plain": [
       "<matplotlib.figure.Figure at 0x2b676652d30>"
      ]
     },
     "metadata": {},
     "output_type": "display_data"
    }
   ],
   "source": [
    "plt.plot(X_new,y_predict,\"r-\")\n",
    "plt.plot(X,y,\"b.\")\n",
    "plt.axis([0,2,0,15])\n",
    "plt.show()"
   ]
  },
  {
   "cell_type": "code",
   "execution_count": 5,
   "metadata": {
    "collapsed": false
   },
   "outputs": [
    {
     "data": {
      "text/plain": [
       "array([[  4.48825922],\n",
       "       [ 10.47418447]])"
      ]
     },
     "execution_count": 5,
     "metadata": {},
     "output_type": "execute_result"
    }
   ],
   "source": [
    "from sklearn.linear_model import LinearRegression\n",
    "lin_reg = LinearRegression()\n",
    "lin_reg.fit(X,y)\n",
    "lin_reg.predict(X_new)"
   ]
  },
  {
   "cell_type": "code",
   "execution_count": 6,
   "metadata": {
    "collapsed": false
   },
   "outputs": [
    {
     "data": {
      "text/plain": [
       "(array([ 4.48825922]), array([[ 2.99296262]]))"
      ]
     },
     "execution_count": 6,
     "metadata": {},
     "output_type": "execute_result"
    }
   ],
   "source": [
    "lin_reg.intercept_, lin_reg.coef_"
   ]
  },
  {
   "cell_type": "markdown",
   "metadata": {},
   "source": [
    "# Gradient Descent"
   ]
  },
  {
   "cell_type": "code",
   "execution_count": 7,
   "metadata": {
    "collapsed": false
   },
   "outputs": [],
   "source": [
    "eta = 0.1\n",
    "n_iterations = 1000\n",
    "m = 100\n",
    "theta = np.random.randn(2,1)\n",
    "for iteration in range(n_iterations):\n",
    "    gradients = 2/m * X_b.T.dot(X_b.dot(theta) - y)\n",
    "    theta = theta - eta * gradients"
   ]
  },
  {
   "cell_type": "code",
   "execution_count": 8,
   "metadata": {
    "collapsed": false
   },
   "outputs": [
    {
     "data": {
      "text/plain": [
       "array([[ 4.48825922],\n",
       "       [ 2.99296262]])"
      ]
     },
     "execution_count": 8,
     "metadata": {},
     "output_type": "execute_result"
    }
   ],
   "source": [
    "theta"
   ]
  },
  {
   "cell_type": "code",
   "execution_count": 9,
   "metadata": {
    "collapsed": false
   },
   "outputs": [
    {
     "data": {
      "text/plain": [
       "array([[ 4.48226347],\n",
       "       [ 3.00133629]])"
      ]
     },
     "execution_count": 9,
     "metadata": {},
     "output_type": "execute_result"
    }
   ],
   "source": [
    "n_epochs = 50\n",
    "t0, t1 = 5, 50\n",
    "def learning_schedule(t):\n",
    "    return t0 / (t + t1)\n",
    "theta = np.random.randn(2,1)\n",
    "for epoch in range(n_epochs):\n",
    "    for i in range(m):\n",
    "        random_index = np.random.randint(m)\n",
    "        xi = X_b[random_index : random_index + 1]\n",
    "        yi = y[random_index : random_index + 1]\n",
    "        gradients = 2 * xi.T.dot(xi.dot(theta) - yi)\n",
    "        eta = learning_schedule(epoch * m + i)\n",
    "        theta = theta - eta * gradients\n",
    "theta"
   ]
  },
  {
   "cell_type": "code",
   "execution_count": 10,
   "metadata": {
    "collapsed": false
   },
   "outputs": [
    {
     "name": "stderr",
     "output_type": "stream",
     "text": [
      "F:\\Anaconda3\\lib\\site-packages\\sklearn\\linear_model\\stochastic_gradient.py:73: DeprecationWarning: n_iter parameter is deprecated in 0.19 and will be removed in 0.21. Use max_iter and tol instead.\n",
      "  DeprecationWarning)\n"
     ]
    },
    {
     "data": {
      "text/plain": [
       "SGDRegressor(alpha=0.0001, average=False, epsilon=0.1, eta0=0.1,\n",
       "       fit_intercept=True, l1_ratio=0.15, learning_rate='invscaling',\n",
       "       loss='squared_loss', max_iter=50, n_iter=None, penalty=None,\n",
       "       power_t=0.25, random_state=None, shuffle=True, tol=None, verbose=0,\n",
       "       warm_start=False)"
      ]
     },
     "execution_count": 10,
     "metadata": {},
     "output_type": "execute_result"
    }
   ],
   "source": [
    "from sklearn.linear_model import SGDRegressor\n",
    "sgd_reg = SGDRegressor(n_iter=50, penalty=None, eta0=0.1)\n",
    "sgd_reg.fit(X, y.ravel())"
   ]
  },
  {
   "cell_type": "code",
   "execution_count": 11,
   "metadata": {
    "collapsed": false
   },
   "outputs": [
    {
     "data": {
      "text/plain": [
       "(array([ 4.50033776]), array([ 3.00639242]))"
      ]
     },
     "execution_count": 11,
     "metadata": {},
     "output_type": "execute_result"
    }
   ],
   "source": [
    "sgd_reg.intercept_, sgd_reg.coef_"
   ]
  },
  {
   "cell_type": "markdown",
   "metadata": {},
   "source": [
    "# Polynomial Regression"
   ]
  },
  {
   "cell_type": "code",
   "execution_count": 29,
   "metadata": {
    "collapsed": false
   },
   "outputs": [
    {
     "data": {
      "image/png": "[encoded data removed]",
      "text/plain": [
       "<matplotlib.figure.Figure at 0x2b67ab294e0>"
      ]
     },
     "metadata": {},
     "output_type": "display_data"
    }
   ],
   "source": [
    "m = 100\n",
    "X = 6 * np.random.rand(m,1) - 3\n",
    "y = 0.5 * X ** 2 + X + 2 + np.random.randn(m,1)\n",
    "plt.plot(X,y,\"b.\")\n",
    "plt.show()"
   ]
  },
  {
   "cell_type": "code",
   "execution_count": 13,
   "metadata": {
    "collapsed": true
   },
   "outputs": [],
   "source": [
    "from sklearn.preprocessing import PolynomialFeatures\n",
    "poly_features = PolynomialFeatures(degree=2, include_bias=False)\n",
    "X_poly = poly_features.fit_transform(X)"
   ]
  },
  {
   "cell_type": "code",
   "execution_count": 14,
   "metadata": {
    "collapsed": false
   },
   "outputs": [
    {
     "data": {
      "text/plain": [
       "array([[-1.65977335,  2.75484758],\n",
       "       [ 0.99552234,  0.99106474],\n",
       "       [-1.32844019,  1.76475334],\n",
       "       [-2.22465309,  4.94908136],\n",
       "       [ 0.81826133,  0.66955161]])"
      ]
     },
     "execution_count": 14,
     "metadata": {},
     "output_type": "execute_result"
    }
   ],
   "source": [
    "X_poly[:5,:]"
   ]
  },
  {
   "cell_type": "code",
   "execution_count": 15,
   "metadata": {
    "collapsed": false
   },
   "outputs": [
    {
     "data": {
      "text/plain": [
       "LinearRegression(copy_X=True, fit_intercept=True, n_jobs=1, normalize=False)"
      ]
     },
     "execution_count": 15,
     "metadata": {},
     "output_type": "execute_result"
    }
   ],
   "source": [
    "lin_reg=LinearRegression()\n",
    "lin_reg.fit(X_poly,y)"
   ]
  },
  {
   "cell_type": "code",
   "execution_count": 16,
   "metadata": {
    "collapsed": false
   },
   "outputs": [
    {
     "data": {
      "text/plain": [
       "(array([ 2.03204288]), array([[ 1.02456855,  0.45895181]]))"
      ]
     },
     "execution_count": 16,
     "metadata": {},
     "output_type": "execute_result"
    }
   ],
   "source": [
    "lin_reg.intercept_, lin_reg.coef_"
   ]
  },
  {
   "cell_type": "code",
   "execution_count": 17,
   "metadata": {
    "collapsed": false
   },
   "outputs": [],
   "source": [
    "X_new = np.linspace(-3,3,100)\n",
    "y_predict = lin_reg.coef_[0][1] * X_new ** 2 + lin_reg.coef_[0][0] * X_new + lin_reg.intercept_"
   ]
  },
  {
   "cell_type": "code",
   "execution_count": 18,
   "metadata": {
    "collapsed": false
   },
   "outputs": [
    {
     "data": {
      "image/png": "[encoded data removed]",
      "text/plain": [
       "<matplotlib.figure.Figure at 0x2b67a9d9240>"
      ]
     },
     "metadata": {},
     "output_type": "display_data"
    }
   ],
   "source": [
    "plt.plot(X_new, y_predict, \"r-\",label=\"Predictions\")\n",
    "plt.plot(X, y, \"b.\")\n",
    "plt.legend(loc=\"upper left\")\n",
    "plt.show()"
   ]
  },
  {
   "cell_type": "code",
   "execution_count": 19,
   "metadata": {
    "collapsed": false
   },
   "outputs": [
    {
     "data": {
      "image/png": "[encoded data removed]",
      "text/plain": [
       "<matplotlib.figure.Figure at 0x2b67a9d98d0>"
      ]
     },
     "metadata": {},
     "output_type": "display_data"
    }
   ],
   "source": [
    "from sklearn.metrics import mean_squared_error\n",
    "from sklearn.model_selection import train_test_split\n",
    "def plot_learning_curves(model, X, y):\n",
    "    X_train, X_val, y_train, y_val = train_test_split(X, y, test_size=0.2)\n",
    "    train_errors, val_errors = [], []\n",
    "    for m in range(1, len(X_train)):\n",
    "        model.fit(X_train[:m], y_train[:m])\n",
    "        y_train_predict = model.predict(X_train[:m])\n",
    "        y_val_predict = model.predict(X_val)\n",
    "        train_errors.append(mean_squared_error(y_train_predict, y_train[:m]))\n",
    "        val_errors.append(mean_squared_error(y_val_predict, y_val))\n",
    "    plt.plot(np.sqrt(train_errors), \"r-+\", label=\"train\")\n",
    "    plt.plot(np.sqrt(val_errors), \"b-\", label=\"val\")\n",
    "lin_reg = LinearRegression()\n",
    "plot_learning_curves(lin_reg, X, y)\n",
    "plt.show()"
   ]
  },
  {
   "cell_type": "code",
   "execution_count": 21,
   "metadata": {
    "collapsed": false
   },
   "outputs": [
    {
     "data": {
      "image/png": "[encoded data removed]",
      "text/plain": [
       "<matplotlib.figure.Figure at 0x2b67a9fb198>"
      ]
     },
     "metadata": {},
     "output_type": "display_data"
    }
   ],
   "source": [
    "from sklearn.pipeline import Pipeline\n",
    "polynomial_regression = Pipeline([\n",
    "    (\"poly_features\", PolynomialFeatures(degree=10, include_bias=False)),\n",
    "    (\"sgd_reg\", LinearRegression()),\n",
    "])\n",
    "plot_learning_curves(polynomial_regression, X, y)\n",
    "plt.axis([0, 80, 0, 3])           # not shown\n",
    "plt.show()                        # not shown"
   ]
  },
  {
   "cell_type": "markdown",
   "metadata": {},
   "source": [
    "# Regularized Linear Models"
   ]
  },
  {
   "cell_type": "markdown",
   "metadata": {
    "collapsed": true
   },
   "source": [
    "## Ridge Regression"
   ]
  },
  {
   "cell_type": "markdown",
   "metadata": {},
   "source": [
    "- 正则项只在训练时的代价函数中添加\n",
    "- 对于大部分带正则的模型，输入标准化很重要"
   ]
  },
  {
   "cell_type": "code",
   "execution_count": 26,
   "metadata": {
    "collapsed": false
   },
   "outputs": [
    {
     "data": {
      "text/plain": [
       "array([[ 8.96600819]])"
      ]
     },
     "execution_count": 26,
     "metadata": {},
     "output_type": "execute_result"
    }
   ],
   "source": [
    "from sklearn.linear_model import Ridge\n",
    "ridge_reg = Ridge(alpha = 1, solver=\"cholesky\")\n",
    "ridge_reg.fit(X, y)\n",
    "ridge_reg.predict([[1.5]])"
   ]
  },
  {
   "cell_type": "code",
   "execution_count": 28,
   "metadata": {
    "collapsed": false
   },
   "outputs": [
    {
     "name": "stderr",
     "output_type": "stream",
     "text": [
      "F:\\Anaconda3\\lib\\site-packages\\sklearn\\linear_model\\stochastic_gradient.py:84: FutureWarning: max_iter and tol parameters have been added in <class 'sklearn.linear_model.stochastic_gradient.SGDRegressor'> in 0.19. If both are left unset, they default to max_iter=5 and tol=None. If tol is not None, max_iter defaults to max_iter=1000. From 0.21, default max_iter will be 1000, and default tol will be 1e-3.\n",
      "  \"and default tol will be 1e-3.\" % type(self), FutureWarning)\n",
      "F:\\Anaconda3\\lib\\site-packages\\sklearn\\utils\\validation.py:547: DataConversionWarning: A column-vector y was passed when a 1d array was expected. Please change the shape of y to (n_samples, ), for example using ravel().\n",
      "  y = column_or_1d(y, warn=True)\n"
     ]
    },
    {
     "data": {
      "text/plain": [
       "array([ 8.86119522])"
      ]
     },
     "execution_count": 28,
     "metadata": {},
     "output_type": "execute_result"
    }
   ],
   "source": [
    "sgd_reg = SGDRegressor(penalty=\"l2\")\n",
    "sgd_reg.fit(X,y.ravel())\n",
    "sgd_reg.predict([[1.5]])"
   ]
  },
  {
   "cell_type": "markdown",
   "metadata": {},
   "source": [
    "## Lasso Regression"
   ]
  },
  {
   "cell_type": "markdown",
   "metadata": {},
   "source": [
    "- Lasso Regression automatically performs feature selection and outputs a sparse model (i.e., with few nonzero feature weights).\n",
    "- 次梯度"
   ]
  },
  {
   "cell_type": "code",
   "execution_count": 35,
   "metadata": {
    "collapsed": false
   },
   "outputs": [
    {
     "data": {
      "text/plain": [
       "array([ 5.1070652])"
      ]
     },
     "execution_count": 35,
     "metadata": {},
     "output_type": "execute_result"
    }
   ],
   "source": [
    "from sklearn.linear_model import Lasso\n",
    "lasso_reg = Lasso(alpha=0.1)\n",
    "lasso_reg.fit(X,y)\n",
    "lasso_reg.predict([[1.5]])"
   ]
  },
  {
   "cell_type": "code",
   "execution_count": 34,
   "metadata": {
    "collapsed": false
   },
   "outputs": [
    {
     "name": "stderr",
     "output_type": "stream",
     "text": [
      "F:\\Anaconda3\\lib\\site-packages\\sklearn\\linear_model\\stochastic_gradient.py:84: FutureWarning: max_iter and tol parameters have been added in <class 'sklearn.linear_model.stochastic_gradient.SGDRegressor'> in 0.19. If both are left unset, they default to max_iter=5 and tol=None. If tol is not None, max_iter defaults to max_iter=1000. From 0.21, default max_iter will be 1000, and default tol will be 1e-3.\n",
      "  \"and default tol will be 1e-3.\" % type(self), FutureWarning)\n"
     ]
    },
    {
     "data": {
      "text/plain": [
       "array([ 4.38078103])"
      ]
     },
     "execution_count": 34,
     "metadata": {},
     "output_type": "execute_result"
    }
   ],
   "source": [
    "sgd_reg = SGDRegressor(penalty=\"l1\")\n",
    "sgd_reg.fit(X,y.ravel())\n",
    "sgd_reg.predict([[1.5]])"
   ]
  },
  {
   "cell_type": "markdown",
   "metadata": {},
   "source": [
    "## Elastic Net"
   ]
  },
  {
   "cell_type": "markdown",
   "metadata": {},
   "source": [
    "- a middle ground between Ridge Regression and Lasso Regression\n",
    "- Ridge is a good default;\n",
    "- Elastic Net is preferred over Lasso since Lasso may behave erratically when the number of features is greater than the number of training instances or when several features are strongly correlated."
   ]
  },
  {
   "cell_type": "code",
   "execution_count": 36,
   "metadata": {
    "collapsed": false
   },
   "outputs": [
    {
     "data": {
      "text/plain": [
       "array([ 5.10413094])"
      ]
     },
     "execution_count": 36,
     "metadata": {},
     "output_type": "execute_result"
    }
   ],
   "source": [
    "from sklearn.linear_model import ElasticNet\n",
    "elastic_net = ElasticNet(alpha=0.1, l1_ratio=0.5)\n",
    "elastic_net.fit(X,y)\n",
    "elastic_net.predict([[1.5]])"
   ]
  },
  {
   "cell_type": "markdown",
   "metadata": {},
   "source": [
    "## Early Stopping"
   ]
  },
  {
   "cell_type": "code",
   "execution_count": 47,
   "metadata": {
    "collapsed": false
   },
   "outputs": [
    {
     "name": "stderr",
     "output_type": "stream",
     "text": [
      "F:\\Anaconda3\\lib\\site-packages\\sklearn\\linear_model\\stochastic_gradient.py:73: DeprecationWarning: n_iter parameter is deprecated in 0.19 and will be removed in 0.21. Use max_iter and tol instead.\n",
      "  DeprecationWarning)\n"
     ]
    }
   ],
   "source": [
    "from sklearn.base import clone\n",
    "sgd_reg = SGDRegressor(n_iter=1, warm_start=True, penalty=None, learning_rate=\"constant\", eta0=0.0005)\n",
    "minimun_val_error = float(\"inf\")\n",
    "X_train_poly_scaled, X_val_poly_scaled, y_train, y_val = train_test_split(X_poly, y, test_size=0.2)\n",
    "for epoch in range(1000):\n",
    "    sgd_reg.fit(X_train_poly_scaled, y_train.ravel())\n",
    "    y_val_predict = sgd_reg.predict(X_val_poly_scaled)\n",
    "    val_error = mean_squared_error(y_val_predict, y_val)\n",
    "    if val_error < minimun_val_error:\n",
    "        minimum_val_error = val_error\n",
    "        best_epoch = epoch\n",
    "        best_model = clone(sgd_reg)"
   ]
  },
  {
   "cell_type": "code",
   "execution_count": 48,
   "metadata": {
    "collapsed": false
   },
   "outputs": [
    {
     "data": {
      "text/plain": [
       "SGDRegressor(alpha=0.0001, average=False, epsilon=0.1, eta0=0.0005,\n",
       "       fit_intercept=True, l1_ratio=0.15, learning_rate='constant',\n",
       "       loss='squared_loss', max_iter=1, n_iter=None, penalty=None,\n",
       "       power_t=0.25, random_state=None, shuffle=True, tol=None, verbose=0,\n",
       "       warm_start=True)"
      ]
     },
     "execution_count": 48,
     "metadata": {},
     "output_type": "execute_result"
    }
   ],
   "source": [
    "best_model"
   ]
  },
  {
   "cell_type": "markdown",
   "metadata": {},
   "source": [
    "# Logistic Regression"
   ]
  },
  {
   "cell_type": "markdown",
   "metadata": {},
   "source": [
    "## Estimating Probabilities"
   ]
  },
  {
   "cell_type": "code",
   "execution_count": 77,
   "metadata": {
    "collapsed": false
   },
   "outputs": [
    {
     "data": {
      "image/png": "[encoded data removed]",
      "text/plain": [
       "<matplotlib.figure.Figure at 0x2b67aa73518>"
      ]
     },
     "metadata": {},
     "output_type": "display_data"
    }
   ],
   "source": [
    "xi = np.linspace(-10,10,100)\n",
    "yi = 1 / (1 + np.exp(-xi))\n",
    "plt.plot(xi, yi)\n",
    "plt.show()"
   ]
  },
  {
   "cell_type": "markdown",
   "metadata": {},
   "source": [
    "## Training and Cost Function\n",
    "## Decision Boundaries"
   ]
  },
  {
   "cell_type": "code",
   "execution_count": 78,
   "metadata": {
    "collapsed": true
   },
   "outputs": [],
   "source": [
    "from sklearn import datasets\n",
    "iris = datasets.load_iris()"
   ]
  },
  {
   "cell_type": "code",
   "execution_count": 79,
   "metadata": {
    "collapsed": false
   },
   "outputs": [
    {
     "data": {
      "text/plain": [
       "['DESCR', 'target', 'feature_names', 'target_names', 'data']"
      ]
     },
     "execution_count": 79,
     "metadata": {},
     "output_type": "execute_result"
    }
   ],
   "source": [
    "list(iris.keys())"
   ]
  },
  {
   "cell_type": "code",
   "execution_count": 113,
   "metadata": {
    "collapsed": false
   },
   "outputs": [
    {
     "data": {
      "text/plain": [
       "array([[ 0.2],\n",
       "       [ 0.2],\n",
       "       [ 0.2],\n",
       "       [ 0.2],\n",
       "       [ 0.2],\n",
       "       [ 0.4],\n",
       "       [ 0.3],\n",
       "       [ 0.2],\n",
       "       [ 0.2],\n",
       "       [ 0.1],\n",
       "       [ 0.2],\n",
       "       [ 0.2],\n",
       "       [ 0.1],\n",
       "       [ 0.1],\n",
       "       [ 0.2],\n",
       "       [ 0.4],\n",
       "       [ 0.4],\n",
       "       [ 0.3],\n",
       "       [ 0.3],\n",
       "       [ 0.3],\n",
       "       [ 0.2],\n",
       "       [ 0.4],\n",
       "       [ 0.2],\n",
       "       [ 0.5],\n",
       "       [ 0.2],\n",
       "       [ 0.2],\n",
       "       [ 0.4],\n",
       "       [ 0.2],\n",
       "       [ 0.2],\n",
       "       [ 0.2],\n",
       "       [ 0.2],\n",
       "       [ 0.4],\n",
       "       [ 0.1],\n",
       "       [ 0.2],\n",
       "       [ 0.1],\n",
       "       [ 0.2],\n",
       "       [ 0.2],\n",
       "       [ 0.1],\n",
       "       [ 0.2],\n",
       "       [ 0.2],\n",
       "       [ 0.3],\n",
       "       [ 0.3],\n",
       "       [ 0.2],\n",
       "       [ 0.6],\n",
       "       [ 0.4],\n",
       "       [ 0.3],\n",
       "       [ 0.2],\n",
       "       [ 0.2],\n",
       "       [ 0.2],\n",
       "       [ 0.2],\n",
       "       [ 1.4],\n",
       "       [ 1.5],\n",
       "       [ 1.5],\n",
       "       [ 1.3],\n",
       "       [ 1.5],\n",
       "       [ 1.3],\n",
       "       [ 1.6],\n",
       "       [ 1. ],\n",
       "       [ 1.3],\n",
       "       [ 1.4],\n",
       "       [ 1. ],\n",
       "       [ 1.5],\n",
       "       [ 1. ],\n",
       "       [ 1.4],\n",
       "       [ 1.3],\n",
       "       [ 1.4],\n",
       "       [ 1.5],\n",
       "       [ 1. ],\n",
       "       [ 1.5],\n",
       "       [ 1.1],\n",
       "       [ 1.8],\n",
       "       [ 1.3],\n",
       "       [ 1.5],\n",
       "       [ 1.2],\n",
       "       [ 1.3],\n",
       "       [ 1.4],\n",
       "       [ 1.4],\n",
       "       [ 1.7],\n",
       "       [ 1.5],\n",
       "       [ 1. ],\n",
       "       [ 1.1],\n",
       "       [ 1. ],\n",
       "       [ 1.2],\n",
       "       [ 1.6],\n",
       "       [ 1.5],\n",
       "       [ 1.6],\n",
       "       [ 1.5],\n",
       "       [ 1.3],\n",
       "       [ 1.3],\n",
       "       [ 1.3],\n",
       "       [ 1.2],\n",
       "       [ 1.4],\n",
       "       [ 1.2],\n",
       "       [ 1. ],\n",
       "       [ 1.3],\n",
       "       [ 1.2],\n",
       "       [ 1.3],\n",
       "       [ 1.3],\n",
       "       [ 1.1],\n",
       "       [ 1.3],\n",
       "       [ 2.5],\n",
       "       [ 1.9],\n",
       "       [ 2.1],\n",
       "       [ 1.8],\n",
       "       [ 2.2],\n",
       "       [ 2.1],\n",
       "       [ 1.7],\n",
       "       [ 1.8],\n",
       "       [ 1.8],\n",
       "       [ 2.5],\n",
       "       [ 2. ],\n",
       "       [ 1.9],\n",
       "       [ 2.1],\n",
       "       [ 2. ],\n",
       "       [ 2.4],\n",
       "       [ 2.3],\n",
       "       [ 1.8],\n",
       "       [ 2.2],\n",
       "       [ 2.3],\n",
       "       [ 1.5],\n",
       "       [ 2.3],\n",
       "       [ 2. ],\n",
       "       [ 2. ],\n",
       "       [ 1.8],\n",
       "       [ 2.1],\n",
       "       [ 1.8],\n",
       "       [ 1.8],\n",
       "       [ 1.8],\n",
       "       [ 2.1],\n",
       "       [ 1.6],\n",
       "       [ 1.9],\n",
       "       [ 2. ],\n",
       "       [ 2.2],\n",
       "       [ 1.5],\n",
       "       [ 1.4],\n",
       "       [ 2.3],\n",
       "       [ 2.4],\n",
       "       [ 1.8],\n",
       "       [ 1.8],\n",
       "       [ 2.1],\n",
       "       [ 2.4],\n",
       "       [ 2.3],\n",
       "       [ 1.9],\n",
       "       [ 2.3],\n",
       "       [ 2.5],\n",
       "       [ 2.3],\n",
       "       [ 1.9],\n",
       "       [ 2. ],\n",
       "       [ 2.3],\n",
       "       [ 1.8]])"
      ]
     },
     "execution_count": 113,
     "metadata": {},
     "output_type": "execute_result"
    }
   ],
   "source": [
    "X = iris[\"data\"][:,3:]\n",
    "y = (iris[\"target\"] == 2).astype(np.int)\n",
    "X"
   ]
  },
  {
   "cell_type": "code",
   "execution_count": 105,
   "metadata": {
    "collapsed": false
   },
   "outputs": [
    {
     "data": {
      "text/plain": [
       "LogisticRegression(C=1.0, class_weight=None, dual=False, fit_intercept=True,\n",
       "          intercept_scaling=1, max_iter=100, multi_class='ovr', n_jobs=1,\n",
       "          penalty='l2', random_state=None, solver='liblinear', tol=0.0001,\n",
       "          verbose=0, warm_start=False)"
      ]
     },
     "execution_count": 105,
     "metadata": {},
     "output_type": "execute_result"
    }
   ],
   "source": [
    "from sklearn.linear_model import LogisticRegression\n",
    "log_reg = LogisticRegression()\n",
    "log_reg.fit(X, y)"
   ]
  },
  {
   "cell_type": "code",
   "execution_count": 92,
   "metadata": {
    "collapsed": false
   },
   "outputs": [
    {
     "data": {
      "image/png": "[encoded data removed]",
      "text/plain": [
       "<matplotlib.figure.Figure at 0x2b67ae2c588>"
      ]
     },
     "metadata": {},
     "output_type": "display_data"
    }
   ],
   "source": [
    "X_new = np.linspace(0,3,1000).reshape(-1,1)\n",
    "y_proba = log_reg.predict_proba(X_new)\n",
    "plt.plot(X_new, y_proba[:,1], \"g-\", label=\"Iris-Virginica\")\n",
    "plt.plot(X_new, y_proba[:,0], \"b--\", label=\"Not Iris-Virginica\")\n",
    "plt.legend()\n",
    "plt.show()"
   ]
  },
  {
   "cell_type": "code",
   "execution_count": 93,
   "metadata": {
    "collapsed": false
   },
   "outputs": [
    {
     "data": {
      "text/plain": [
       "array([1, 0])"
      ]
     },
     "execution_count": 93,
     "metadata": {},
     "output_type": "execute_result"
    }
   ],
   "source": [
    "log_reg.predict([[1.7],[1.5]])"
   ]
  },
  {
   "cell_type": "markdown",
   "metadata": {},
   "source": [
    "## Softmax Regression"
   ]
  },
  {
   "cell_type": "code",
   "execution_count": 121,
   "metadata": {
    "collapsed": false
   },
   "outputs": [],
   "source": [
    "X = iris[\"data\"][:,(2,3)]\n",
    "y = iris[\"target\"]"
   ]
  },
  {
   "cell_type": "code",
   "execution_count": 109,
   "metadata": {
    "collapsed": false
   },
   "outputs": [
    {
     "data": {
      "text/plain": [
       "array([[ 1.4,  0.2],\n",
       "       [ 1.4,  0.2],\n",
       "       [ 1.3,  0.2],\n",
       "       [ 1.5,  0.2],\n",
       "       [ 1.4,  0.2],\n",
       "       [ 1.7,  0.4],\n",
       "       [ 1.4,  0.3],\n",
       "       [ 1.5,  0.2],\n",
       "       [ 1.4,  0.2],\n",
       "       [ 1.5,  0.1],\n",
       "       [ 1.5,  0.2],\n",
       "       [ 1.6,  0.2],\n",
       "       [ 1.4,  0.1],\n",
       "       [ 1.1,  0.1],\n",
       "       [ 1.2,  0.2],\n",
       "       [ 1.5,  0.4],\n",
       "       [ 1.3,  0.4],\n",
       "       [ 1.4,  0.3],\n",
       "       [ 1.7,  0.3],\n",
       "       [ 1.5,  0.3],\n",
       "       [ 1.7,  0.2],\n",
       "       [ 1.5,  0.4],\n",
       "       [ 1. ,  0.2],\n",
       "       [ 1.7,  0.5],\n",
       "       [ 1.9,  0.2],\n",
       "       [ 1.6,  0.2],\n",
       "       [ 1.6,  0.4],\n",
       "       [ 1.5,  0.2],\n",
       "       [ 1.4,  0.2],\n",
       "       [ 1.6,  0.2],\n",
       "       [ 1.6,  0.2],\n",
       "       [ 1.5,  0.4],\n",
       "       [ 1.5,  0.1],\n",
       "       [ 1.4,  0.2],\n",
       "       [ 1.5,  0.1],\n",
       "       [ 1.2,  0.2],\n",
       "       [ 1.3,  0.2],\n",
       "       [ 1.5,  0.1],\n",
       "       [ 1.3,  0.2],\n",
       "       [ 1.5,  0.2],\n",
       "       [ 1.3,  0.3],\n",
       "       [ 1.3,  0.3],\n",
       "       [ 1.3,  0.2],\n",
       "       [ 1.6,  0.6],\n",
       "       [ 1.9,  0.4],\n",
       "       [ 1.4,  0.3],\n",
       "       [ 1.6,  0.2],\n",
       "       [ 1.4,  0.2],\n",
       "       [ 1.5,  0.2],\n",
       "       [ 1.4,  0.2],\n",
       "       [ 4.7,  1.4],\n",
       "       [ 4.5,  1.5],\n",
       "       [ 4.9,  1.5],\n",
       "       [ 4. ,  1.3],\n",
       "       [ 4.6,  1.5],\n",
       "       [ 4.5,  1.3],\n",
       "       [ 4.7,  1.6],\n",
       "       [ 3.3,  1. ],\n",
       "       [ 4.6,  1.3],\n",
       "       [ 3.9,  1.4],\n",
       "       [ 3.5,  1. ],\n",
       "       [ 4.2,  1.5],\n",
       "       [ 4. ,  1. ],\n",
       "       [ 4.7,  1.4],\n",
       "       [ 3.6,  1.3],\n",
       "       [ 4.4,  1.4],\n",
       "       [ 4.5,  1.5],\n",
       "       [ 4.1,  1. ],\n",
       "       [ 4.5,  1.5],\n",
       "       [ 3.9,  1.1],\n",
       "       [ 4.8,  1.8],\n",
       "       [ 4. ,  1.3],\n",
       "       [ 4.9,  1.5],\n",
       "       [ 4.7,  1.2],\n",
       "       [ 4.3,  1.3],\n",
       "       [ 4.4,  1.4],\n",
       "       [ 4.8,  1.4],\n",
       "       [ 5. ,  1.7],\n",
       "       [ 4.5,  1.5],\n",
       "       [ 3.5,  1. ],\n",
       "       [ 3.8,  1.1],\n",
       "       [ 3.7,  1. ],\n",
       "       [ 3.9,  1.2],\n",
       "       [ 5.1,  1.6],\n",
       "       [ 4.5,  1.5],\n",
       "       [ 4.5,  1.6],\n",
       "       [ 4.7,  1.5],\n",
       "       [ 4.4,  1.3],\n",
       "       [ 4.1,  1.3],\n",
       "       [ 4. ,  1.3],\n",
       "       [ 4.4,  1.2],\n",
       "       [ 4.6,  1.4],\n",
       "       [ 4. ,  1.2],\n",
       "       [ 3.3,  1. ],\n",
       "       [ 4.2,  1.3],\n",
       "       [ 4.2,  1.2],\n",
       "       [ 4.2,  1.3],\n",
       "       [ 4.3,  1.3],\n",
       "       [ 3. ,  1.1],\n",
       "       [ 4.1,  1.3],\n",
       "       [ 6. ,  2.5],\n",
       "       [ 5.1,  1.9],\n",
       "       [ 5.9,  2.1],\n",
       "       [ 5.6,  1.8],\n",
       "       [ 5.8,  2.2],\n",
       "       [ 6.6,  2.1],\n",
       "       [ 4.5,  1.7],\n",
       "       [ 6.3,  1.8],\n",
       "       [ 5.8,  1.8],\n",
       "       [ 6.1,  2.5],\n",
       "       [ 5.1,  2. ],\n",
       "       [ 5.3,  1.9],\n",
       "       [ 5.5,  2.1],\n",
       "       [ 5. ,  2. ],\n",
       "       [ 5.1,  2.4],\n",
       "       [ 5.3,  2.3],\n",
       "       [ 5.5,  1.8],\n",
       "       [ 6.7,  2.2],\n",
       "       [ 6.9,  2.3],\n",
       "       [ 5. ,  1.5],\n",
       "       [ 5.7,  2.3],\n",
       "       [ 4.9,  2. ],\n",
       "       [ 6.7,  2. ],\n",
       "       [ 4.9,  1.8],\n",
       "       [ 5.7,  2.1],\n",
       "       [ 6. ,  1.8],\n",
       "       [ 4.8,  1.8],\n",
       "       [ 4.9,  1.8],\n",
       "       [ 5.6,  2.1],\n",
       "       [ 5.8,  1.6],\n",
       "       [ 6.1,  1.9],\n",
       "       [ 6.4,  2. ],\n",
       "       [ 5.6,  2.2],\n",
       "       [ 5.1,  1.5],\n",
       "       [ 5.6,  1.4],\n",
       "       [ 6.1,  2.3],\n",
       "       [ 5.6,  2.4],\n",
       "       [ 5.5,  1.8],\n",
       "       [ 4.8,  1.8],\n",
       "       [ 5.4,  2.1],\n",
       "       [ 5.6,  2.4],\n",
       "       [ 5.1,  2.3],\n",
       "       [ 5.1,  1.9],\n",
       "       [ 5.9,  2.3],\n",
       "       [ 5.7,  2.5],\n",
       "       [ 5.2,  2.3],\n",
       "       [ 5. ,  1.9],\n",
       "       [ 5.2,  2. ],\n",
       "       [ 5.4,  2.3],\n",
       "       [ 5.1,  1.8]])"
      ]
     },
     "execution_count": 109,
     "metadata": {},
     "output_type": "execute_result"
    }
   ],
   "source": [
    "X"
   ]
  },
  {
   "cell_type": "code",
   "execution_count": 122,
   "metadata": {
    "collapsed": false
   },
   "outputs": [
    {
     "data": {
      "text/plain": [
       "LogisticRegression(C=10, class_weight=None, dual=False, fit_intercept=True,\n",
       "          intercept_scaling=1, max_iter=100, multi_class='multinomial',\n",
       "          n_jobs=1, penalty='l2', random_state=None, solver='lbfgs',\n",
       "          tol=0.0001, verbose=0, warm_start=False)"
      ]
     },
     "execution_count": 122,
     "metadata": {},
     "output_type": "execute_result"
    }
   ],
   "source": [
    "softmax_reg = LogisticRegression(multi_class=\"multinomial\", solver=\"lbfgs\", C=10)\n",
    "softmax_reg.fit(X, y)"
   ]
  },
  {
   "cell_type": "code",
   "execution_count": 123,
   "metadata": {
    "collapsed": false
   },
   "outputs": [
    {
     "data": {
      "text/plain": [
       "array([[  6.33134077e-07,   5.75276067e-02,   9.42471760e-01]])"
      ]
     },
     "execution_count": 123,
     "metadata": {},
     "output_type": "execute_result"
    }
   ],
   "source": [
    "softmax_reg.predict_proba([[5, 2]])"
   ]
  },
  {
   "cell_type": "code",
   "execution_count": 124,
   "metadata": {
    "collapsed": false
   },
   "outputs": [
    {
     "data": {
      "text/plain": [
       "array([2])"
      ]
     },
     "execution_count": 124,
     "metadata": {},
     "output_type": "execute_result"
    }
   ],
   "source": [
    "softmax_reg.predict([[5, 2]])"
   ]
  },
  {
   "cell_type": "code",
   "execution_count": null,
   "metadata": {
    "collapsed": true
   },
   "outputs": [],
   "source": []
  }
 ],
 "metadata": {
  "anaconda-cloud": {},
  "kernelspec": {
   "display_name": "Python [default]",
   "language": "python",
   "name": "python3"
  },
  "language_info": {
   "codemirror_mode": {
    "name": "ipython",
    "version": 3
   },
   "file_extension": ".py",
   "mimetype": "text/x-python",
   "name": "python",
   "nbconvert_exporter": "python",
   "pygments_lexer": "ipython3",
   "version": "3.5.2"
  }
 },
 "nbformat": 4,
 "nbformat_minor": 1
}
