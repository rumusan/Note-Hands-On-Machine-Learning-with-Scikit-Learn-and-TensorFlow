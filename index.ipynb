{
 "cells": [
  {
   "cell_type": "markdown",
   "metadata": {},
   "source": [
    "# Note-Hands On Machine Learning with Scikit-Learn and TensorFlow"
   ]
  },
  {
   "cell_type": "markdown",
   "metadata": {},
   "source": [
    "## 目录\n",
    "\n",
	"- [chpter 1](https://nbviewer.jupyter.org/github/rumusan/Note-Hands-On-Machine-Learning-with-Scikit-Learn-and-TensorFlow/blob/master/chapter1.ipynb)\n",
	"- [chpter 2](https://nbviewer.jupyter.org/github/rumusan/Note-Hands-On-Machine-Learning-with-Scikit-Learn-and-TensorFlow/blob/master/chapter2.ipynb)\n",
    "- [chpter 3](https://nbviewer.jupyter.org/github/rumusan/Note-Hands-On-Machine-Learning-with-Scikit-Learn-and-TensorFlow/blob/master/chapter3.ipynb)\n",
    "- [chpter 4](https://nbviewer.jupyter.org/github/rumusan/Note-Hands-On-Machine-Learning-with-Scikit-Learn-and-TensorFlow/blob/master/chapter4.ipynb)\n",
	"- [chpter 5](https://nbviewer.jupyter.org/github/rumusan/Note-Hands-On-Machine-Learning-with-Scikit-Learn-and-TensorFlow/blob/master/chapter5.ipynb)\n",
	"- [chpter 6](https://nbviewer.jupyter.org/github/rumusan/Note-Hands-On-Machine-Learning-with-Scikit-Learn-and-TensorFlow/blob/master/chapter6.ipynb)\n",
	"- [chpter 7](https://nbviewer.jupyter.org/github/rumusan/Note-Hands-On-Machine-Learning-with-Scikit-Learn-and-TensorFlow/blob/master/chapter7.ipynb)\n",
	"- [chpter 8](https://nbviewer.jupyter.org/github/rumusan/Note-Hands-On-Machine-Learning-with-Scikit-Learn-and-TensorFlow/blob/master/chapter8.ipynb)\n",
	"- [chpter 9](https://nbviewer.jupyter.org/github/rumusan/Note-Hands-On-Machine-Learning-with-Scikit-Learn-and-TensorFlow/blob/master/chapter9.ipynb)\n",
	"- [chpter 10](https://nbviewer.jupyter.org/github/rumusan/Note-Hands-On-Machine-Learning-with-Scikit-Learn-and-TensorFlow/blob/master/chapter10.ipynb)\n",
	"- [chpter 11](https://nbviewer.jupyter.org/github/rumusan/Note-Hands-On-Machine-Learning-with-Scikit-Learn-and-TensorFlow/blob/master/chapter11.ipynb)"
   ]
  },
  {
   "cell_type": "code",
   "execution_count": null,
   "metadata": {
    "collapsed": true
   },
   "outputs": [],
   "source": []
  }
 ],
 "metadata": {
  "anaconda-cloud": {},
  "kernelspec": {
   "display_name": "Python [default]",
   "language": "python",
   "name": "python3"
  },
  "language_info": {
   "codemirror_mode": {
    "name": "ipython",
    "version": 3
   },
   "file_extension": ".py",
   "mimetype": "text/x-python",
   "name": "python",
   "nbconvert_exporter": "python",
   "pygments_lexer": "ipython3",
   "version": "3.5.2"
  }
 },
 "nbformat": 4,
 "nbformat_minor": 1
}
