{
 "cells": [
  {
   "cell_type": "markdown",
   "metadata": {},
   "source": [
    "# Chapter 10 Introduction to Artificial Neural Networks"
   ]
  },
  {
   "cell_type": "markdown",
   "metadata": {},
   "source": [
    "## From Biological to Artificial Neurons\n",
    "\n",
    "### Biological Neurons\n",
    "\n",
    "### Logical Computations with Neurons\n",
    "\n",
    "### The Perceptron\n",
    "\n",
    "### Multi-Layer Perceptron and Backpropagation"
   ]
  },
  {
   "cell_type": "markdown",
   "metadata": {},
   "source": [
    "## Training an MLP with TensorFlow's High-Level API"
   ]
  },
  {
   "cell_type": "code",
   "execution_count": 2,
   "metadata": {
    "collapsed": false
   },
   "outputs": [
    {
     "name": "stdout",
     "output_type": "stream",
     "text": [
      "Downloading data from https://s3.amazonaws.com/img-datasets/mnist.npz\n",
      "11493376/11490434 [==============================] - 85s 7us/step\n"
     ]
    }
   ],
   "source": [
    "import tensorflow as tf\n",
    "\n",
    "(X_train, y_train), (X_test, y_test) = tf.keras.datasets.mnist.load_data()"
   ]
  },
  {
   "cell_type": "code",
   "execution_count": 6,
   "metadata": {
    "collapsed": false
   },
   "outputs": [
    {
     "name": "stdout",
     "output_type": "stream",
     "text": [
      "(60000, 28, 28)\n",
      "(10000,)\n"
     ]
    }
   ],
   "source": [
    "print(X_train.shape)\n",
    "print(y_test.shape)"
   ]
  },
  {
   "cell_type": "code",
   "execution_count": 8,
   "metadata": {
    "collapsed": false
   },
   "outputs": [],
   "source": [
    "import numpy as np\n",
    "X_train = X_train.astype(np.float32).reshape(-1, 28*28) / 255.0\n",
    "X_test = X_test.astype(np.float32).reshape(-1, 28*28) / 255.0\n",
    "y_train = y_train.astype(np.int32)\n",
    "y_test = y_test.astype(np.int32)\n",
    "X_valid, X_train = X_train[:5000], X_train[5000:]\n",
    "y_valid, y_train = y_train[:5000], y_train[5000:]"
   ]
  },
  {
   "cell_type": "code",
   "execution_count": 9,
   "metadata": {
    "collapsed": false
   },
   "outputs": [
    {
     "data": {
      "text/plain": [
       "(55000, 784)"
      ]
     },
     "execution_count": 9,
     "metadata": {},
     "output_type": "execute_result"
    }
   ],
   "source": [
    "X_train.shape"
   ]
  },
  {
   "cell_type": "code",
   "execution_count": 19,
   "metadata": {
    "collapsed": false
   },
   "outputs": [
    {
     "name": "stdout",
     "output_type": "stream",
     "text": [
      "INFO:tensorflow:Using default config.\n",
      "WARNING:tensorflow:Using temporary folder as model directory: C:\\Users\\rumusan\\AppData\\Local\\Temp\\tmppwe22uk4\n",
      "INFO:tensorflow:Using config: {'_save_checkpoints_secs': 600, '_session_config': None, '_task_type': 'worker', '_model_dir': 'C:\\\\Users\\\\rumusan\\\\AppData\\\\Local\\\\Temp\\\\tmppwe22uk4', '_service': None, '_master': '', '_num_ps_replicas': 0, '_keep_checkpoint_max': 5, '_is_chief': True, '_save_summary_steps': 100, '_task_id': 0, '_global_id_in_cluster': 0, '_cluster_spec': <tensorflow.python.training.server_lib.ClusterSpec object at 0x0000026AEECC39E8>, '_save_checkpoints_steps': None, '_device_fn': None, '_train_distribute': None, '_tf_random_seed': None, '_evaluation_master': '', '_num_worker_replicas': 1, '_keep_checkpoint_every_n_hours': 10000, '_log_step_count_steps': 100}\n",
      "INFO:tensorflow:Calling model_fn.\n",
      "INFO:tensorflow:Done calling model_fn.\n",
      "INFO:tensorflow:Create CheckpointSaverHook.\n",
      "INFO:tensorflow:Graph was finalized.\n",
      "INFO:tensorflow:Running local_init_op.\n",
      "INFO:tensorflow:Done running local_init_op.\n",
      "INFO:tensorflow:Saving checkpoints for 0 into C:\\Users\\rumusan\\AppData\\Local\\Temp\\tmppwe22uk4\\model.ckpt.\n",
      "INFO:tensorflow:loss = 58.532074, step = 1\n",
      "INFO:tensorflow:global_step/sec: 257.877\n",
      "INFO:tensorflow:loss = 4.926609, step = 101 (0.389 sec)\n",
      "INFO:tensorflow:global_step/sec: 295.159\n",
      "INFO:tensorflow:loss = 3.3348246, step = 201 (0.338 sec)\n",
      "INFO:tensorflow:global_step/sec: 296.906\n",
      "INFO:tensorflow:loss = 14.53919, step = 301 (0.338 sec)\n",
      "INFO:tensorflow:global_step/sec: 293.42\n",
      "INFO:tensorflow:loss = 11.535068, step = 401 (0.341 sec)\n",
      "INFO:tensorflow:global_step/sec: 296.032\n",
      "INFO:tensorflow:loss = 3.3928902, step = 501 (0.338 sec)\n",
      "INFO:tensorflow:global_step/sec: 290.019\n",
      "INFO:tensorflow:loss = 2.1322453, step = 601 (0.344 sec)\n",
      "INFO:tensorflow:global_step/sec: 291.37\n",
      "INFO:tensorflow:loss = 5.6953087, step = 701 (0.343 sec)\n",
      "INFO:tensorflow:global_step/sec: 286.699\n",
      "INFO:tensorflow:loss = 0.73507905, step = 801 (0.349 sec)\n",
      "INFO:tensorflow:global_step/sec: 294.287\n",
      "INFO:tensorflow:loss = 3.6599474, step = 901 (0.341 sec)\n",
      "INFO:tensorflow:global_step/sec: 289.173\n",
      "INFO:tensorflow:loss = 3.12355, step = 1001 (0.345 sec)\n",
      "INFO:tensorflow:global_step/sec: 293.426\n",
      "INFO:tensorflow:loss = 0.60413563, step = 1101 (0.342 sec)\n",
      "INFO:tensorflow:global_step/sec: 292.564\n",
      "INFO:tensorflow:loss = 3.7273717, step = 1201 (0.342 sec)\n",
      "INFO:tensorflow:global_step/sec: 291.555\n",
      "INFO:tensorflow:loss = 0.076451905, step = 1301 (0.343 sec)\n",
      "INFO:tensorflow:global_step/sec: 272.343\n",
      "INFO:tensorflow:loss = 5.8301435, step = 1401 (0.367 sec)\n",
      "INFO:tensorflow:global_step/sec: 288.242\n",
      "INFO:tensorflow:loss = 0.44470286, step = 1501 (0.347 sec)\n",
      "INFO:tensorflow:global_step/sec: 287.545\n",
      "INFO:tensorflow:loss = 1.6330423, step = 1601 (0.348 sec)\n",
      "INFO:tensorflow:global_step/sec: 286.692\n",
      "INFO:tensorflow:loss = 4.890048, step = 1701 (0.349 sec)\n",
      "INFO:tensorflow:global_step/sec: 288.347\n",
      "INFO:tensorflow:loss = 1.6041076, step = 1801 (0.347 sec)\n",
      "INFO:tensorflow:global_step/sec: 284.256\n",
      "INFO:tensorflow:loss = 0.56482077, step = 1901 (0.352 sec)\n",
      "INFO:tensorflow:global_step/sec: 291.713\n",
      "INFO:tensorflow:loss = 1.5715854, step = 2001 (0.343 sec)\n",
      "INFO:tensorflow:global_step/sec: 290.863\n",
      "INFO:tensorflow:loss = 0.55146605, step = 2101 (0.344 sec)\n",
      "INFO:tensorflow:global_step/sec: 296.909\n",
      "INFO:tensorflow:loss = 0.7450189, step = 2201 (0.336 sec)\n",
      "INFO:tensorflow:global_step/sec: 288.348\n",
      "INFO:tensorflow:loss = 1.4619389, step = 2301 (0.348 sec)\n",
      "INFO:tensorflow:global_step/sec: 286.699\n",
      "INFO:tensorflow:loss = 0.25978443, step = 2401 (0.349 sec)\n",
      "INFO:tensorflow:global_step/sec: 284.255\n",
      "INFO:tensorflow:loss = 2.750419, step = 2501 (0.351 sec)\n",
      "INFO:tensorflow:global_step/sec: 285.063\n",
      "INFO:tensorflow:loss = 3.3116105, step = 2601 (0.351 sec)\n",
      "INFO:tensorflow:global_step/sec: 285.878\n",
      "INFO:tensorflow:loss = 1.8472332, step = 2701 (0.351 sec)\n",
      "INFO:tensorflow:global_step/sec: 271.158\n",
      "INFO:tensorflow:loss = 0.044705067, step = 2801 (0.368 sec)\n",
      "INFO:tensorflow:global_step/sec: 271.893\n",
      "INFO:tensorflow:loss = 0.07537708, step = 2901 (0.369 sec)\n",
      "INFO:tensorflow:global_step/sec: 272.638\n",
      "INFO:tensorflow:loss = 0.4683032, step = 3001 (0.367 sec)\n",
      "INFO:tensorflow:global_step/sec: 269.696\n",
      "INFO:tensorflow:loss = 0.8896698, step = 3101 (0.370 sec)\n",
      "INFO:tensorflow:global_step/sec: 293.425\n",
      "INFO:tensorflow:loss = 1.6612681, step = 3201 (0.341 sec)\n",
      "INFO:tensorflow:global_step/sec: 282.648\n",
      "INFO:tensorflow:loss = 7.973503, step = 3301 (0.354 sec)\n",
      "INFO:tensorflow:global_step/sec: 284.253\n",
      "INFO:tensorflow:loss = 1.1486558, step = 3401 (0.352 sec)\n",
      "INFO:tensorflow:global_step/sec: 283.448\n",
      "INFO:tensorflow:loss = 0.15704912, step = 3501 (0.353 sec)\n",
      "INFO:tensorflow:global_step/sec: 281.062\n",
      "INFO:tensorflow:loss = 3.710559, step = 3601 (0.357 sec)\n",
      "INFO:tensorflow:global_step/sec: 277.166\n",
      "INFO:tensorflow:loss = 1.777523, step = 3701 (0.360 sec)\n",
      "INFO:tensorflow:global_step/sec: 283.449\n",
      "INFO:tensorflow:loss = 0.22572473, step = 3801 (0.354 sec)\n",
      "INFO:tensorflow:global_step/sec: 280.268\n",
      "INFO:tensorflow:loss = 0.81547946, step = 3901 (0.357 sec)\n",
      "INFO:tensorflow:global_step/sec: 279.494\n",
      "INFO:tensorflow:loss = 6.657721, step = 4001 (0.358 sec)\n",
      "INFO:tensorflow:global_step/sec: 283.449\n",
      "INFO:tensorflow:loss = 0.6202455, step = 4101 (0.353 sec)\n",
      "INFO:tensorflow:global_step/sec: 278.71\n",
      "INFO:tensorflow:loss = 5.8461018, step = 4201 (0.359 sec)\n",
      "INFO:tensorflow:global_step/sec: 271.898\n",
      "INFO:tensorflow:loss = 1.6216761, step = 4301 (0.367 sec)\n",
      "INFO:tensorflow:global_step/sec: 279.49\n",
      "INFO:tensorflow:loss = 0.038281616, step = 4401 (0.358 sec)\n",
      "INFO:tensorflow:global_step/sec: 274.882\n",
      "INFO:tensorflow:loss = 0.12906687, step = 4501 (0.364 sec)\n",
      "INFO:tensorflow:global_step/sec: 287.519\n",
      "INFO:tensorflow:loss = 2.8827107, step = 4601 (0.349 sec)\n",
      "INFO:tensorflow:global_step/sec: 279.49\n",
      "INFO:tensorflow:loss = 0.5233955, step = 4701 (0.358 sec)\n",
      "INFO:tensorflow:global_step/sec: 273.383\n",
      "INFO:tensorflow:loss = 0.32420608, step = 4801 (0.365 sec)\n",
      "INFO:tensorflow:global_step/sec: 277.939\n",
      "INFO:tensorflow:loss = 6.4453235, step = 4901 (0.361 sec)\n",
      "INFO:tensorflow:global_step/sec: 274.883\n",
      "INFO:tensorflow:loss = 0.25843233, step = 5001 (0.364 sec)\n",
      "INFO:tensorflow:global_step/sec: 278.711\n",
      "INFO:tensorflow:loss = 2.29223, step = 5101 (0.359 sec)\n",
      "INFO:tensorflow:global_step/sec: 275.63\n",
      "INFO:tensorflow:loss = 0.9657876, step = 5201 (0.362 sec)\n",
      "INFO:tensorflow:global_step/sec: 266.819\n",
      "INFO:tensorflow:loss = 0.7013667, step = 5301 (0.375 sec)\n",
      "INFO:tensorflow:global_step/sec: 274.13\n",
      "INFO:tensorflow:loss = 1.0730263, step = 5401 (0.365 sec)\n",
      "INFO:tensorflow:global_step/sec: 277.167\n",
      "INFO:tensorflow:loss = 0.5759441, step = 5501 (0.362 sec)\n",
      "INFO:tensorflow:global_step/sec: 289.179\n",
      "INFO:tensorflow:loss = 0.45387346, step = 5601 (0.346 sec)\n",
      "INFO:tensorflow:global_step/sec: 293.428\n",
      "INFO:tensorflow:loss = 2.5558615, step = 5701 (0.340 sec)\n",
      "INFO:tensorflow:global_step/sec: 290.863\n",
      "INFO:tensorflow:loss = 1.8209039, step = 5801 (0.344 sec)\n",
      "INFO:tensorflow:global_step/sec: 298.68\n",
      "INFO:tensorflow:loss = 5.873802, step = 5901 (0.335 sec)\n",
      "INFO:tensorflow:global_step/sec: 291.712\n",
      "INFO:tensorflow:loss = 3.5094662, step = 6001 (0.343 sec)\n",
      "INFO:tensorflow:global_step/sec: 294.287\n",
      "INFO:tensorflow:loss = 0.20322636, step = 6101 (0.340 sec)\n",
      "INFO:tensorflow:global_step/sec: 293.422\n",
      "INFO:tensorflow:loss = 1.7576019, step = 6201 (0.342 sec)\n",
      "INFO:tensorflow:global_step/sec: 296.026\n",
      "INFO:tensorflow:loss = 1.6632637, step = 6301 (0.338 sec)\n",
      "INFO:tensorflow:global_step/sec: 293.427\n",
      "INFO:tensorflow:loss = 0.24683839, step = 6401 (0.340 sec)\n",
      "INFO:tensorflow:global_step/sec: 289.183\n",
      "INFO:tensorflow:loss = 0.93695885, step = 6501 (0.346 sec)\n",
      "INFO:tensorflow:global_step/sec: 290.865\n",
      "INFO:tensorflow:loss = 0.9025922, step = 6601 (0.344 sec)\n",
      "INFO:tensorflow:global_step/sec: 303.199\n",
      "INFO:tensorflow:loss = 0.028992392, step = 6701 (0.331 sec)\n",
      "INFO:tensorflow:global_step/sec: 290.015\n",
      "INFO:tensorflow:loss = 1.6047016, step = 6801 (0.345 sec)\n",
      "INFO:tensorflow:global_step/sec: 289.188\n",
      "INFO:tensorflow:loss = 0.06510122, step = 6901 (0.346 sec)\n",
      "INFO:tensorflow:global_step/sec: 288.351\n",
      "INFO:tensorflow:loss = 3.8572805, step = 7001 (0.347 sec)\n",
      "INFO:tensorflow:global_step/sec: 285.062\n",
      "INFO:tensorflow:loss = 1.1260165, step = 7101 (0.351 sec)\n",
      "INFO:tensorflow:global_step/sec: 292.567\n",
      "INFO:tensorflow:loss = 1.87781, step = 7201 (0.342 sec)\n",
      "INFO:tensorflow:global_step/sec: 289.179\n",
      "INFO:tensorflow:loss = 0.03325344, step = 7301 (0.346 sec)\n",
      "INFO:tensorflow:global_step/sec: 287.524\n",
      "INFO:tensorflow:loss = 0.48666137, step = 7401 (0.348 sec)\n",
      "INFO:tensorflow:global_step/sec: 290.866\n",
      "INFO:tensorflow:loss = 1.1071969, step = 7501 (0.343 sec)\n",
      "INFO:tensorflow:global_step/sec: 285.064\n",
      "INFO:tensorflow:loss = 0.22701523, step = 7601 (0.351 sec)\n",
      "INFO:tensorflow:global_step/sec: 286.696\n",
      "INFO:tensorflow:loss = 0.34091246, step = 7701 (0.350 sec)\n",
      "INFO:tensorflow:global_step/sec: 294.287\n",
      "INFO:tensorflow:loss = 0.8536602, step = 7801 (0.340 sec)\n",
      "INFO:tensorflow:global_step/sec: 286.697\n",
      "INFO:tensorflow:loss = 0.25811782, step = 7901 (0.348 sec)\n",
      "INFO:tensorflow:global_step/sec: 290.023\n",
      "INFO:tensorflow:loss = 0.97260785, step = 8001 (0.346 sec)\n",
      "INFO:tensorflow:global_step/sec: 296.024\n",
      "INFO:tensorflow:loss = 0.22596882, step = 8101 (0.338 sec)\n",
      "INFO:tensorflow:global_step/sec: 284.258\n",
      "INFO:tensorflow:loss = 0.6866111, step = 8201 (0.351 sec)\n",
      "INFO:tensorflow:global_step/sec: 284.25\n",
      "INFO:tensorflow:loss = 1.4348671, step = 8301 (0.353 sec)\n",
      "INFO:tensorflow:global_step/sec: 285.883\n",
      "INFO:tensorflow:loss = 0.20722175, step = 8401 (0.350 sec)\n",
      "INFO:tensorflow:global_step/sec: 291.711\n",
      "INFO:tensorflow:loss = 3.825925, step = 8501 (0.342 sec)\n",
      "INFO:tensorflow:global_step/sec: 303.199\n",
      "INFO:tensorflow:loss = 0.0949941, step = 8601 (0.331 sec)\n",
      "INFO:tensorflow:global_step/sec: 299.579\n",
      "INFO:tensorflow:loss = 0.25311828, step = 8701 (0.334 sec)\n",
      "INFO:tensorflow:global_step/sec: 286.698\n",
      "INFO:tensorflow:loss = 0.050354857, step = 8801 (0.349 sec)\n",
      "INFO:tensorflow:global_step/sec: 296.024\n",
      "INFO:tensorflow:loss = 0.06151385, step = 8901 (0.338 sec)\n",
      "INFO:tensorflow:global_step/sec: 285.068\n",
      "INFO:tensorflow:loss = 0.17783058, step = 9001 (0.350 sec)\n",
      "INFO:tensorflow:global_step/sec: 285.063\n",
      "INFO:tensorflow:loss = 0.2595626, step = 9101 (0.351 sec)\n",
      "INFO:tensorflow:global_step/sec: 290.023\n",
      "INFO:tensorflow:loss = 0.081571236, step = 9201 (0.345 sec)\n",
      "INFO:tensorflow:global_step/sec: 294.285\n",
      "INFO:tensorflow:loss = 0.06832452, step = 9301 (0.341 sec)\n",
      "INFO:tensorflow:global_step/sec: 285.877\n",
      "INFO:tensorflow:loss = 0.13131343, step = 9401 (0.350 sec)\n",
      "INFO:tensorflow:global_step/sec: 287.522\n",
      "INFO:tensorflow:loss = 0.3994772, step = 9501 (0.348 sec)\n",
      "INFO:tensorflow:global_step/sec: 263.305\n",
      "INFO:tensorflow:loss = 1.7503818, step = 9601 (0.380 sec)\n",
      "INFO:tensorflow:global_step/sec: 281.855\n",
      "INFO:tensorflow:loss = 0.17822324, step = 9701 (0.355 sec)\n",
      "INFO:tensorflow:global_step/sec: 288.349\n",
      "INFO:tensorflow:loss = 1.0839157, step = 9801 (0.347 sec)\n",
      "INFO:tensorflow:global_step/sec: 285.062\n",
      "INFO:tensorflow:loss = 0.40176964, step = 9901 (0.351 sec)\n",
      "INFO:tensorflow:global_step/sec: 296.032\n",
      "INFO:tensorflow:loss = 2.8889046, step = 10001 (0.337 sec)\n",
      "INFO:tensorflow:global_step/sec: 296.907\n",
      "INFO:tensorflow:loss = 0.42716, step = 10101 (0.337 sec)\n",
      "INFO:tensorflow:global_step/sec: 289.18\n",
      "INFO:tensorflow:loss = 0.26072797, step = 10201 (0.346 sec)\n",
      "INFO:tensorflow:global_step/sec: 286.699\n",
      "INFO:tensorflow:loss = 1.9281341, step = 10301 (0.350 sec)\n",
      "INFO:tensorflow:global_step/sec: 288.346\n",
      "INFO:tensorflow:loss = 0.29303584, step = 10401 (0.347 sec)\n",
      "INFO:tensorflow:global_step/sec: 286.702\n",
      "INFO:tensorflow:loss = 0.074068934, step = 10501 (0.348 sec)\n",
      "INFO:tensorflow:global_step/sec: 293.42\n",
      "INFO:tensorflow:loss = 0.90615886, step = 10601 (0.342 sec)\n",
      "INFO:tensorflow:global_step/sec: 289.188\n",
      "INFO:tensorflow:loss = 0.0071252286, step = 10701 (0.345 sec)\n",
      "INFO:tensorflow:global_step/sec: 292.565\n",
      "INFO:tensorflow:loss = 0.08247713, step = 10801 (0.342 sec)\n",
      "INFO:tensorflow:global_step/sec: 285.062\n",
      "INFO:tensorflow:loss = 0.19302264, step = 10901 (0.352 sec)\n",
      "INFO:tensorflow:global_step/sec: 290.019\n",
      "INFO:tensorflow:loss = 0.13278124, step = 11001 (0.345 sec)\n",
      "INFO:tensorflow:global_step/sec: 279.494\n",
      "INFO:tensorflow:loss = 0.35088813, step = 11101 (0.358 sec)\n",
      "INFO:tensorflow:global_step/sec: 284.254\n",
      "INFO:tensorflow:loss = 0.05891813, step = 11201 (0.351 sec)\n",
      "INFO:tensorflow:global_step/sec: 283.449\n",
      "INFO:tensorflow:loss = 0.36271545, step = 11301 (0.354 sec)\n",
      "INFO:tensorflow:global_step/sec: 284.254\n",
      "INFO:tensorflow:loss = 0.2404822, step = 11401 (0.351 sec)\n",
      "INFO:tensorflow:global_step/sec: 285.064\n",
      "INFO:tensorflow:loss = 0.14347976, step = 11501 (0.352 sec)\n",
      "INFO:tensorflow:global_step/sec: 285.876\n",
      "INFO:tensorflow:loss = 1.4982986, step = 11601 (0.350 sec)\n",
      "INFO:tensorflow:global_step/sec: 280.275\n",
      "INFO:tensorflow:loss = 0.2551743, step = 11701 (0.357 sec)\n",
      "INFO:tensorflow:global_step/sec: 296.027\n",
      "INFO:tensorflow:loss = 0.7416351, step = 11801 (0.338 sec)\n",
      "INFO:tensorflow:global_step/sec: 284.255\n",
      "INFO:tensorflow:loss = 0.78670615, step = 11901 (0.351 sec)\n",
      "INFO:tensorflow:global_step/sec: 283.447\n",
      "INFO:tensorflow:loss = 0.018440679, step = 12001 (0.353 sec)\n",
      "INFO:tensorflow:global_step/sec: 290.022\n",
      "INFO:tensorflow:loss = 0.7993703, step = 12101 (0.345 sec)\n",
      "INFO:tensorflow:global_step/sec: 279.49\n",
      "INFO:tensorflow:loss = 0.60584664, step = 12201 (0.358 sec)\n",
      "INFO:tensorflow:global_step/sec: 287.522\n",
      "INFO:tensorflow:loss = 0.08652217, step = 12301 (0.349 sec)\n",
      "INFO:tensorflow:global_step/sec: 285.879\n",
      "INFO:tensorflow:loss = 0.025343627, step = 12401 (0.350 sec)\n",
      "INFO:tensorflow:global_step/sec: 295.154\n",
      "INFO:tensorflow:loss = 0.06604214, step = 12501 (0.339 sec)\n",
      "INFO:tensorflow:global_step/sec: 285.062\n",
      "INFO:tensorflow:loss = 0.5382625, step = 12601 (0.351 sec)\n",
      "INFO:tensorflow:global_step/sec: 285.876\n",
      "INFO:tensorflow:loss = 0.21960916, step = 12701 (0.350 sec)\n",
      "INFO:tensorflow:global_step/sec: 290.02\n",
      "INFO:tensorflow:loss = 0.21224444, step = 12801 (0.345 sec)\n",
      "INFO:tensorflow:global_step/sec: 285.884\n",
      "INFO:tensorflow:loss = 0.7274946, step = 12901 (0.350 sec)\n",
      "INFO:tensorflow:global_step/sec: 284.254\n",
      "INFO:tensorflow:loss = 0.12852497, step = 13001 (0.351 sec)\n",
      "INFO:tensorflow:global_step/sec: 282.648\n",
      "INFO:tensorflow:loss = 0.25232506, step = 13101 (0.354 sec)\n",
      "INFO:tensorflow:global_step/sec: 285.06\n",
      "INFO:tensorflow:loss = 0.07121136, step = 13201 (0.352 sec)\n",
      "INFO:tensorflow:global_step/sec: 285.066\n",
      "INFO:tensorflow:loss = 0.044421397, step = 13301 (0.351 sec)\n",
      "INFO:tensorflow:global_step/sec: 286.697\n",
      "INFO:tensorflow:loss = 0.30400982, step = 13401 (0.349 sec)\n",
      "INFO:tensorflow:global_step/sec: 282.651\n",
      "INFO:tensorflow:loss = 0.0042679673, step = 13501 (0.354 sec)\n",
      "INFO:tensorflow:global_step/sec: 292.562\n",
      "INFO:tensorflow:loss = 0.26438007, step = 13601 (0.342 sec)\n",
      "INFO:tensorflow:global_step/sec: 282.648\n",
      "INFO:tensorflow:loss = 0.17610922, step = 13701 (0.354 sec)\n",
      "INFO:tensorflow:global_step/sec: 282.645\n",
      "INFO:tensorflow:loss = 0.5710819, step = 13801 (0.354 sec)\n",
      "INFO:tensorflow:global_step/sec: 281.675\n",
      "INFO:tensorflow:loss = 0.4239521, step = 13901 (0.354 sec)\n",
      "INFO:tensorflow:global_step/sec: 281.058\n",
      "INFO:tensorflow:loss = 0.6718979, step = 14001 (0.357 sec)\n",
      "INFO:tensorflow:global_step/sec: 281.854\n",
      "INFO:tensorflow:loss = 0.44933915, step = 14101 (0.354 sec)\n",
      "INFO:tensorflow:global_step/sec: 280.267\n",
      "INFO:tensorflow:loss = 0.40796387, step = 14201 (0.358 sec)\n",
      "INFO:tensorflow:global_step/sec: 284.257\n",
      "INFO:tensorflow:loss = 0.20289753, step = 14301 (0.352 sec)\n",
      "INFO:tensorflow:global_step/sec: 294.286\n",
      "INFO:tensorflow:loss = 0.03033055, step = 14401 (0.340 sec)\n",
      "INFO:tensorflow:global_step/sec: 281.064\n",
      "INFO:tensorflow:loss = 0.027375136, step = 14501 (0.355 sec)\n",
      "INFO:tensorflow:global_step/sec: 292.566\n",
      "INFO:tensorflow:loss = 0.06447114, step = 14601 (0.343 sec)\n",
      "INFO:tensorflow:global_step/sec: 286.697\n",
      "INFO:tensorflow:loss = 0.06623402, step = 14701 (0.349 sec)\n",
      "INFO:tensorflow:global_step/sec: 284.252\n",
      "INFO:tensorflow:loss = 0.034322552, step = 14801 (0.352 sec)\n",
      "INFO:tensorflow:global_step/sec: 290.025\n",
      "INFO:tensorflow:loss = 0.026214367, step = 14901 (0.344 sec)\n",
      "INFO:tensorflow:global_step/sec: 288.349\n",
      "INFO:tensorflow:loss = 0.2530219, step = 15001 (0.347 sec)\n",
      "INFO:tensorflow:global_step/sec: 284.254\n",
      "INFO:tensorflow:loss = 0.036795348, step = 15101 (0.353 sec)\n",
      "INFO:tensorflow:global_step/sec: 284.255\n",
      "INFO:tensorflow:loss = 0.057598315, step = 15201 (0.351 sec)\n",
      "INFO:tensorflow:global_step/sec: 282.647\n",
      "INFO:tensorflow:loss = 0.09044804, step = 15301 (0.355 sec)\n",
      "INFO:tensorflow:global_step/sec: 285.063\n",
      "INFO:tensorflow:loss = 0.022168389, step = 15401 (0.351 sec)\n",
      "INFO:tensorflow:global_step/sec: 285.875\n",
      "INFO:tensorflow:loss = 0.022018293, step = 15501 (0.350 sec)\n",
      "INFO:tensorflow:global_step/sec: 292.566\n",
      "INFO:tensorflow:loss = 0.6924933, step = 15601 (0.342 sec)\n",
      "INFO:tensorflow:global_step/sec: 283.495\n",
      "INFO:tensorflow:loss = 0.10980098, step = 15701 (0.354 sec)\n",
      "INFO:tensorflow:global_step/sec: 278.713\n",
      "INFO:tensorflow:loss = 0.069962, step = 15801 (0.358 sec)\n",
      "INFO:tensorflow:global_step/sec: 278.708\n",
      "INFO:tensorflow:loss = 0.045182977, step = 15901 (0.359 sec)\n",
      "INFO:tensorflow:global_step/sec: 281.854\n",
      "INFO:tensorflow:loss = 0.023400974, step = 16001 (0.355 sec)\n",
      "INFO:tensorflow:global_step/sec: 276.404\n",
      "INFO:tensorflow:loss = 0.0038450777, step = 16101 (0.362 sec)\n",
      "INFO:tensorflow:global_step/sec: 275.64\n",
      "INFO:tensorflow:loss = 0.52943975, step = 16201 (0.363 sec)\n",
      "INFO:tensorflow:global_step/sec: 286.698\n",
      "INFO:tensorflow:loss = 0.17379874, step = 16301 (0.349 sec)\n",
      "INFO:tensorflow:global_step/sec: 286.696\n",
      "INFO:tensorflow:loss = 0.8421638, step = 16401 (0.348 sec)\n",
      "INFO:tensorflow:global_step/sec: 278.709\n",
      "INFO:tensorflow:loss = 0.00126801, step = 16501 (0.360 sec)\n",
      "INFO:tensorflow:global_step/sec: 277.166\n",
      "INFO:tensorflow:loss = 0.04130105, step = 16601 (0.361 sec)\n",
      "INFO:tensorflow:global_step/sec: 280.278\n",
      "INFO:tensorflow:loss = 0.13139182, step = 16701 (0.357 sec)\n",
      "INFO:tensorflow:global_step/sec: 276.398\n",
      "INFO:tensorflow:loss = 0.003311605, step = 16801 (0.362 sec)\n",
      "INFO:tensorflow:global_step/sec: 285.065\n",
      "INFO:tensorflow:loss = 0.60148245, step = 16901 (0.351 sec)\n",
      "INFO:tensorflow:global_step/sec: 277.171\n",
      "INFO:tensorflow:loss = 0.026471859, step = 17001 (0.360 sec)\n",
      "INFO:tensorflow:global_step/sec: 277.937\n",
      "INFO:tensorflow:loss = 0.30582753, step = 17101 (0.360 sec)\n",
      "INFO:tensorflow:global_step/sec: 276.401\n",
      "INFO:tensorflow:loss = 6.6577816, step = 17201 (0.363 sec)\n",
      "INFO:tensorflow:global_step/sec: 281.853\n",
      "INFO:tensorflow:loss = 0.48912388, step = 17301 (0.355 sec)\n",
      "INFO:tensorflow:global_step/sec: 274.129\n",
      "INFO:tensorflow:loss = 0.35705444, step = 17401 (0.365 sec)\n",
      "INFO:tensorflow:global_step/sec: 290.021\n",
      "INFO:tensorflow:loss = 0.031134969, step = 17501 (0.345 sec)\n",
      "INFO:tensorflow:global_step/sec: 277.169\n",
      "INFO:tensorflow:loss = 0.6907327, step = 17601 (0.360 sec)\n",
      "INFO:tensorflow:global_step/sec: 294.285\n",
      "INFO:tensorflow:loss = 0.027397022, step = 17701 (0.341 sec)\n",
      "INFO:tensorflow:global_step/sec: 290.023\n",
      "INFO:tensorflow:loss = 0.1161373, step = 17801 (0.345 sec)\n",
      "INFO:tensorflow:global_step/sec: 299.573\n",
      "INFO:tensorflow:loss = 0.009381491, step = 17901 (0.334 sec)\n",
      "INFO:tensorflow:global_step/sec: 289.183\n",
      "INFO:tensorflow:loss = 0.4267509, step = 18001 (0.346 sec)\n",
      "INFO:tensorflow:global_step/sec: 305.051\n",
      "INFO:tensorflow:loss = 0.092548795, step = 18101 (0.328 sec)\n",
      "INFO:tensorflow:global_step/sec: 290.866\n",
      "INFO:tensorflow:loss = 0.17947836, step = 18201 (0.343 sec)\n",
      "INFO:tensorflow:global_step/sec: 292.563\n",
      "INFO:tensorflow:loss = 0.028161226, step = 18301 (0.343 sec)\n",
      "INFO:tensorflow:global_step/sec: 307.87\n",
      "INFO:tensorflow:loss = 0.15916768, step = 18401 (0.325 sec)\n",
      "INFO:tensorflow:global_step/sec: 289.179\n",
      "INFO:tensorflow:loss = 0.12066118, step = 18501 (0.346 sec)\n",
      "INFO:tensorflow:global_step/sec: 289.187\n",
      "INFO:tensorflow:loss = 0.009094142, step = 18601 (0.346 sec)\n",
      "INFO:tensorflow:global_step/sec: 294.287\n",
      "INFO:tensorflow:loss = 0.039770894, step = 18701 (0.340 sec)\n",
      "INFO:tensorflow:global_step/sec: 295.158\n",
      "INFO:tensorflow:loss = 0.04069055, step = 18801 (0.339 sec)\n",
      "INFO:tensorflow:global_step/sec: 302.282\n",
      "INFO:tensorflow:loss = 0.017628927, step = 18901 (0.331 sec)\n",
      "INFO:tensorflow:global_step/sec: 301.383\n",
      "INFO:tensorflow:loss = 0.7926472, step = 19001 (0.332 sec)\n",
      "INFO:tensorflow:global_step/sec: 290.021\n",
      "INFO:tensorflow:loss = 0.06971952, step = 19101 (0.345 sec)\n",
      "INFO:tensorflow:global_step/sec: 289.183\n",
      "INFO:tensorflow:loss = 0.06525992, step = 19201 (0.345 sec)\n",
      "INFO:tensorflow:global_step/sec: 297.987\n",
      "INFO:tensorflow:loss = 0.16776651, step = 19301 (0.337 sec)\n",
      "INFO:tensorflow:global_step/sec: 281.851\n",
      "INFO:tensorflow:loss = 0.023735214, step = 19401 (0.355 sec)\n",
      "INFO:tensorflow:global_step/sec: 274.882\n",
      "INFO:tensorflow:loss = 0.085376054, step = 19501 (0.365 sec)\n",
      "INFO:tensorflow:global_step/sec: 280.274\n",
      "INFO:tensorflow:loss = 0.16227154, step = 19601 (0.356 sec)\n",
      "INFO:tensorflow:global_step/sec: 276.401\n",
      "INFO:tensorflow:loss = 0.059939317, step = 19701 (0.362 sec)\n",
      "INFO:tensorflow:global_step/sec: 283.446\n",
      "INFO:tensorflow:loss = 0.06846116, step = 19801 (0.353 sec)\n",
      "INFO:tensorflow:global_step/sec: 263.312\n",
      "INFO:tensorflow:loss = 0.15529849, step = 19901 (0.380 sec)\n",
      "INFO:tensorflow:global_step/sec: 256.557\n",
      "INFO:tensorflow:loss = 0.15693147, step = 20001 (0.390 sec)\n",
      "INFO:tensorflow:global_step/sec: 261.931\n",
      "INFO:tensorflow:loss = 0.020450026, step = 20101 (0.382 sec)\n",
      "INFO:tensorflow:global_step/sec: 269.695\n",
      "INFO:tensorflow:loss = 0.04675318, step = 20201 (0.371 sec)\n",
      "INFO:tensorflow:global_step/sec: 277.169\n",
      "INFO:tensorflow:loss = 0.37643984, step = 20301 (0.361 sec)\n",
      "INFO:tensorflow:global_step/sec: 281.06\n",
      "INFO:tensorflow:loss = 0.0143904295, step = 20401 (0.356 sec)\n",
      "INFO:tensorflow:global_step/sec: 281.059\n",
      "INFO:tensorflow:loss = 0.0009806212, step = 20501 (0.356 sec)\n",
      "INFO:tensorflow:global_step/sec: 275.64\n",
      "INFO:tensorflow:loss = 0.027420636, step = 20601 (0.363 sec)\n",
      "INFO:tensorflow:global_step/sec: 274.13\n",
      "INFO:tensorflow:loss = 0.01081475, step = 20701 (0.365 sec)\n",
      "INFO:tensorflow:global_step/sec: 271.894\n",
      "INFO:tensorflow:loss = 0.028518345, step = 20801 (0.368 sec)\n",
      "INFO:tensorflow:global_step/sec: 232.154\n",
      "INFO:tensorflow:loss = 1.034132, step = 20901 (0.433 sec)\n",
      "INFO:tensorflow:global_step/sec: 282.647\n",
      "INFO:tensorflow:loss = 0.027419433, step = 21001 (0.352 sec)\n",
      "INFO:tensorflow:global_step/sec: 288.35\n",
      "INFO:tensorflow:loss = 0.12684281, step = 21101 (0.347 sec)\n",
      "INFO:tensorflow:global_step/sec: 287.521\n",
      "INFO:tensorflow:loss = 0.0017136881, step = 21201 (0.348 sec)\n",
      "INFO:tensorflow:global_step/sec: 282.644\n",
      "INFO:tensorflow:loss = 0.10046752, step = 21301 (0.354 sec)\n",
      "INFO:tensorflow:global_step/sec: 233.78\n",
      "INFO:tensorflow:loss = 0.007988634, step = 21401 (0.428 sec)\n",
      "INFO:tensorflow:global_step/sec: 279.493\n",
      "INFO:tensorflow:loss = 0.428436, step = 21501 (0.358 sec)\n",
      "INFO:tensorflow:global_step/sec: 277.938\n",
      "INFO:tensorflow:loss = 0.009348672, step = 21601 (0.360 sec)\n",
      "INFO:tensorflow:global_step/sec: 282.644\n",
      "INFO:tensorflow:loss = 0.049475398, step = 21701 (0.354 sec)\n",
      "INFO:tensorflow:global_step/sec: 280.273\n",
      "INFO:tensorflow:loss = 0.27899376, step = 21801 (0.357 sec)\n",
      "INFO:tensorflow:global_step/sec: 281.064\n",
      "INFO:tensorflow:loss = 0.049375746, step = 21901 (0.356 sec)\n",
      "INFO:tensorflow:Saving checkpoints for 22000 into C:\\Users\\rumusan\\AppData\\Local\\Temp\\tmppwe22uk4\\model.ckpt.\n",
      "INFO:tensorflow:Loss for final step: 0.09962787.\n"
     ]
    },
    {
     "data": {
      "text/plain": [
       "<tensorflow.python.estimator.canned.dnn.DNNClassifier at 0x26aeecc37f0>"
      ]
     },
     "execution_count": 19,
     "metadata": {},
     "output_type": "execute_result"
    }
   ],
   "source": [
    "feature_cols = [tf.feature_column.numeric_column(\"X\", shape=[28*28])]\n",
    "dnn_clf = tf.estimator.DNNClassifier(hidden_units=[300,100], n_classes=10, feature_columns=feature_cols)\n",
    "\n",
    "input_fn = tf.estimator.inputs.numpy_input_fn(x={\"X\":X_train}, y=y_train, num_epochs=10, batch_size=25, shuffle=True)\n",
    "dnn_clf.train(input_fn=input_fn)"
   ]
  },
  {
   "cell_type": "code",
   "execution_count": 20,
   "metadata": {
    "collapsed": false
   },
   "outputs": [
    {
     "name": "stdout",
     "output_type": "stream",
     "text": [
      "INFO:tensorflow:Calling model_fn.\n",
      "INFO:tensorflow:Done calling model_fn.\n",
      "INFO:tensorflow:Starting evaluation at 2018-07-21-07:59:23\n",
      "INFO:tensorflow:Graph was finalized.\n",
      "INFO:tensorflow:Restoring parameters from C:\\Users\\rumusan\\AppData\\Local\\Temp\\tmppwe22uk4\\model.ckpt-22000\n",
      "INFO:tensorflow:Running local_init_op.\n",
      "INFO:tensorflow:Done running local_init_op.\n",
      "INFO:tensorflow:Finished evaluation at 2018-07-21-07:59:24\n",
      "INFO:tensorflow:Saving dict for global step 22000: accuracy = 0.9796, average_loss = 0.07330247, global_step = 22000, loss = 9.278794\n",
      "INFO:tensorflow:Saving 'checkpoint_path' summary for global step 22000: C:\\Users\\rumusan\\AppData\\Local\\Temp\\tmppwe22uk4\\model.ckpt-22000\n"
     ]
    }
   ],
   "source": [
    "test_input_fn = tf.estimator.inputs.numpy_input_fn(x={\"X\":X_test}, y=y_test, shuffle=False)\n",
    "eval_results = dnn_clf.evaluate(input_fn=test_input_fn)"
   ]
  },
  {
   "cell_type": "code",
   "execution_count": 21,
   "metadata": {
    "collapsed": false
   },
   "outputs": [
    {
     "data": {
      "text/plain": [
       "{'accuracy': 0.9796,\n",
       " 'average_loss': 0.07330247,\n",
       " 'global_step': 22000,\n",
       " 'loss': 9.278794}"
      ]
     },
     "execution_count": 21,
     "metadata": {},
     "output_type": "execute_result"
    }
   ],
   "source": [
    "eval_results"
   ]
  },
  {
   "cell_type": "code",
   "execution_count": 22,
   "metadata": {
    "collapsed": false
   },
   "outputs": [
    {
     "name": "stdout",
     "output_type": "stream",
     "text": [
      "INFO:tensorflow:Calling model_fn.\n",
      "INFO:tensorflow:Done calling model_fn.\n",
      "INFO:tensorflow:Graph was finalized.\n",
      "INFO:tensorflow:Restoring parameters from C:\\Users\\rumusan\\AppData\\Local\\Temp\\tmppwe22uk4\\model.ckpt-22000\n",
      "INFO:tensorflow:Running local_init_op.\n",
      "INFO:tensorflow:Done running local_init_op.\n"
     ]
    },
    {
     "data": {
      "text/plain": [
       "{'class_ids': array([7], dtype=int64),\n",
       " 'classes': array([b'7'], dtype=object),\n",
       " 'logits': array([ -5.696324  ,  -0.65812564,  -0.5697815 ,   4.636589  ,\n",
       "         -9.971786  ,  -0.6450563 , -24.364986  ,  18.083654  ,\n",
       "         -2.2112381 ,   2.4903064 ], dtype=float32),\n",
       " 'probabilities': array([4.7042044e-11, 7.2535062e-09, 7.9234574e-09, 1.4454831e-06,\n",
       "        6.5414942e-13, 7.3489255e-09, 3.6710446e-19, 9.9999845e-01,\n",
       "        1.5347554e-09, 1.6900304e-07], dtype=float32)}"
      ]
     },
     "execution_count": 22,
     "metadata": {},
     "output_type": "execute_result"
    }
   ],
   "source": [
    "y_pred_iter = dnn_clf.predict(input_fn=test_input_fn)\n",
    "y_pred = list(y_pred_iter)\n",
    "y_pred[0]"
   ]
  },
  {
   "cell_type": "markdown",
   "metadata": {},
   "source": [
    "## Training a DNN Using Plain TensorFlow"
   ]
  },
  {
   "cell_type": "markdown",
   "metadata": {},
   "source": [
    "### Construction Phase"
   ]
  },
  {
   "cell_type": "code",
   "execution_count": 23,
   "metadata": {
    "collapsed": true
   },
   "outputs": [],
   "source": [
    "tf.reset_default_graph()"
   ]
  },
  {
   "cell_type": "code",
   "execution_count": 26,
   "metadata": {
    "collapsed": false
   },
   "outputs": [],
   "source": [
    "n_inputs = 28*28\n",
    "n_hidden1 = 300\n",
    "n_hidden2 = 100\n",
    "n_outputs = 10\n",
    "\n",
    "X = tf.placeholder(tf.float32, shape=(None, n_inputs), name=\"X\")\n",
    "y = tf.placeholder(tf.int64, shape=(None), name=\"y\")\n",
    "\n",
    "def neuron_layer(X, n_neurons, name, activation=None):\n",
    "    with tf.name_scope(name):\n",
    "        n_inputs = int(X.get_shape()[1])\n",
    "        stddev = 2 / np.sqrt(n_inputs)\n",
    "        init = tf.truncated_normal((n_inputs, n_neurons), stddev=stddev)\n",
    "        W = tf.Variable(init, name=\"weights\")\n",
    "        b = tf.Variable(tf.zeros([n_neurons]), name=\"biases\")\n",
    "        z = tf.matmul(X,W)+b\n",
    "        if activation == \"relu\":\n",
    "            return tf.nn.relu(z)\n",
    "        else:\n",
    "            return z\n",
    "\n",
    "with tf.name_scope(\"dnn\"):\n",
    "    hidden1 = neuron_layer(X, n_hidden1, \"hidden1\", activation=\"relu\")\n",
    "    hidden2 = neuron_layer(hidden1, n_hidden2, \"hidden2\", activation=\"relu\")\n",
    "    logits = neuron_layer(hidden2, n_outputs, \"outputs\")\n",
    "    \n",
    "with tf.name_scope(\"loss\"):\n",
    "    xentropy = tf.nn.sparse_softmax_cross_entropy_with_logits(labels=y, logits=logits)\n",
    "    loss = tf.reduce_mean(xentropy, name=\"loss\")\n",
    "    \n",
    "learning_rate = 0.01\n",
    "\n",
    "with tf.name_scope(\"train\"):\n",
    "    optimizer = tf.train.GradientDescentOptimizer(learning_rate)\n",
    "    training_op = optimizer.minimize(loss)\n",
    "\n",
    "with tf.name_scope(\"eval\"):\n",
    "    correct = tf.nn.in_top_k(logits, y, 1)\n",
    "    accuracy = tf.reduce_mean(tf.cast(correct, tf.float32))\n",
    "    \n",
    "init = tf.global_variables_initializer()\n",
    "saver = tf.train.Saver()"
   ]
  },
  {
   "cell_type": "markdown",
   "metadata": {},
   "source": [
    "### Execution Phase"
   ]
  },
  {
   "cell_type": "code",
   "execution_count": 32,
   "metadata": {
    "collapsed": false
   },
   "outputs": [],
   "source": [
    "n_epochs = 10\n",
    "batch_size = 25\n",
    "\n",
    "def shuffle_batch(X, y, batch_size):\n",
    "    rnd_idx = np.random.permutation(len(X))\n",
    "    n_batches = len(X) // batch_size\n",
    "    for batch_idx in np.array_split(rnd_idx, n_batches):\n",
    "        X_batch, y_batch = X[batch_idx], y[batch_idx]\n",
    "        yield X_batch, y_batch"
   ]
  },
  {
   "cell_type": "code",
   "execution_count": 34,
   "metadata": {
    "collapsed": false
   },
   "outputs": [
    {
     "name": "stdout",
     "output_type": "stream",
     "text": [
      "0 Batch accuracy: 1.0 Val accuracy: 0.9362\n",
      "1 Batch accuracy: 1.0 Val accuracy: 0.9532\n",
      "2 Batch accuracy: 1.0 Val accuracy: 0.9572\n",
      "3 Batch accuracy: 1.0 Val accuracy: 0.9634\n",
      "4 Batch accuracy: 1.0 Val accuracy: 0.9654\n",
      "5 Batch accuracy: 1.0 Val accuracy: 0.9684\n",
      "6 Batch accuracy: 0.96 Val accuracy: 0.969\n",
      "7 Batch accuracy: 1.0 Val accuracy: 0.9724\n",
      "8 Batch accuracy: 1.0 Val accuracy: 0.9716\n",
      "9 Batch accuracy: 1.0 Val accuracy: 0.9724\n"
     ]
    }
   ],
   "source": [
    "with tf.Session() as sess:\n",
    "    init.run()\n",
    "    for epoch in range(n_epochs):\n",
    "        for X_batch, y_batch in shuffle_batch(X_train, y_train, batch_size):\n",
    "            sess.run(training_op, feed_dict={X:X_batch, y:y_batch})\n",
    "        acc_batch = accuracy.eval(feed_dict={X:X_batch, y:y_batch})\n",
    "        acc_val = accuracy.eval(feed_dict={X:X_valid, y:y_valid})\n",
    "        print(epoch, \"Batch accuracy:\", acc_batch, \"Val accuracy:\", acc_val)\n",
    "        \n",
    "    save_path = saver.save(sess, \"./mymodel/my_model_final.ckpt\")"
   ]
  },
  {
   "cell_type": "markdown",
   "metadata": {},
   "source": [
    "### Using the Neural Network"
   ]
  },
  {
   "cell_type": "code",
   "execution_count": 35,
   "metadata": {
    "collapsed": false
   },
   "outputs": [
    {
     "name": "stdout",
     "output_type": "stream",
     "text": [
      "INFO:tensorflow:Restoring parameters from ./mymodel/my_model_final.ckpt\n"
     ]
    }
   ],
   "source": [
    "with tf.Session() as sess:\n",
    "    saver.restore(sess, \"./mymodel/my_model_final.ckpt\")\n",
    "    X_new_scaled = X_test[:20]\n",
    "    Z = logits.eval(feed_dict={X:X_new_scaled})\n",
    "    y_pred = np.argmax(Z, axis=1)"
   ]
  },
  {
   "cell_type": "code",
   "execution_count": 39,
   "metadata": {
    "collapsed": false
   },
   "outputs": [
    {
     "name": "stdout",
     "output_type": "stream",
     "text": [
      "[7 2 1 0 4 1 4 9 6 9 0 6 9 0 1 5 9 7 3 4]\n",
      "[7 2 1 0 4 1 4 9 5 9 0 6 9 0 1 5 9 7 3 4]\n"
     ]
    }
   ],
   "source": [
    "print(y_pred)\n",
    "print(y_test[:20])"
   ]
  },
  {
   "cell_type": "markdown",
   "metadata": {},
   "source": [
    "## Fine-Tuning Neural Network Hyperparameters"
   ]
  },
  {
   "cell_type": "code",
   "execution_count": 45,
   "metadata": {
    "collapsed": true
   },
   "outputs": [],
   "source": [
    "tf.reset_default_graph()"
   ]
  },
  {
   "cell_type": "code",
   "execution_count": 46,
   "metadata": {
    "collapsed": false
   },
   "outputs": [
    {
     "name": "stdout",
     "output_type": "stream",
     "text": [
      "0 Batch accuracy: 0.92 Valid accuracy: 0.9234\n",
      "1 Batch accuracy: 1.0 Valid accuracy: 0.9408\n",
      "2 Batch accuracy: 0.92 Valid accuracy: 0.95\n",
      "3 Batch accuracy: 1.0 Valid accuracy: 0.959\n",
      "4 Batch accuracy: 0.96 Valid accuracy: 0.9606\n",
      "5 Batch accuracy: 1.0 Valid accuracy: 0.9668\n",
      "6 Batch accuracy: 0.96 Valid accuracy: 0.9684\n",
      "7 Batch accuracy: 0.96 Valid accuracy: 0.9688\n",
      "8 Batch accuracy: 1.0 Valid accuracy: 0.9712\n",
      "9 Batch accuracy: 1.0 Valid accuracy: 0.973\n"
     ]
    }
   ],
   "source": [
    "n_inputs = 28*28\n",
    "n_hidden1 = 300\n",
    "n_hidden2 = 100 \n",
    "n_outputs = 10\n",
    "\n",
    "X = tf.placeholder(tf.float32, shape=(None, n_inputs), name=\"X\")\n",
    "y = tf.placeholder(tf.int32, shape=(None), name=\"y\")\n",
    "\n",
    "with tf.name_scope(\"dnn\"):\n",
    "    hidden1 = tf.layers.dense(X, n_hidden1, name=\"hidden1\", activation = tf.nn.relu)\n",
    "    hidden2 = tf.layers.dense(hidden1, n_hidden2, name=\"hidden2\", activation = tf.nn.relu)\n",
    "    logits = tf.layers.dense(hidden2, n_outputs, name=\"outputs\")\n",
    "    y_proba = tf.nn.softmax(logits)\n",
    "\n",
    "with tf.name_scope(\"loss\"):\n",
    "    xentropy = tf.nn.sparse_softmax_cross_entropy_with_logits(labels=y, logits=logits)\n",
    "    loss = tf.reduce_mean(xentropy, name=\"loss\")\n",
    "\n",
    "learning_rate = 0.01\n",
    "\n",
    "with tf.name_scope(\"train\"):\n",
    "    optimizer = tf.train.GradientDescentOptimizer(learning_rate)\n",
    "    training_op = optimizer.minimize(loss)\n",
    "\n",
    "with tf.name_scope(\"eval\"):\n",
    "    correct = tf.nn.in_top_k(logits,y,1)\n",
    "    accuracy = tf.reduce_mean(tf.cast(correct, tf.float32))\n",
    "    \n",
    "init = tf.global_variables_initializer()\n",
    "saver = tf.train.Saver()\n",
    "\n",
    "n_epochs = 10\n",
    "n_batches = 25\n",
    "\n",
    "def shuffle_batch(X, y, batch_size):\n",
    "    rnd_idx = np.random.permutation(len(X))\n",
    "    n_batches = len(X) // batch_size\n",
    "    for batch_idx in np.array_split(rnd_idx, n_batches):\n",
    "        X_batch, y_batch = X[batch_idx], y[batch_idx]\n",
    "        yield X_batch, y_batch\n",
    "\n",
    "with tf.Session() as sess:\n",
    "    init.run()\n",
    "    for epoch in range(n_epochs):\n",
    "        for X_batch, y_batch in shuffle_batch(X_train, y_train, batch_size):\n",
    "            sess.run(training_op, feed_dict={X:X_batch, y:y_batch})\n",
    "        acc_batch = accuracy.eval(feed_dict={X:X_batch, y:y_batch})\n",
    "        acc_valid = accuracy.eval(feed_dict={X:X_valid, y:y_valid})\n",
    "        print(epoch, \"Batch accuracy:\", acc_batch, \"Valid accuracy:\", acc_valid)\n",
    "        \n",
    "    save_path = saver.save(sess, \"./mymodel/my_model_final2.ckpt\")"
   ]
  },
  {
   "cell_type": "code",
   "execution_count": null,
   "metadata": {
    "collapsed": true
   },
   "outputs": [],
   "source": []
  }
 ],
 "metadata": {
  "anaconda-cloud": {},
  "kernelspec": {
   "display_name": "Python [default]",
   "language": "python",
   "name": "python3"
  },
  "language_info": {
   "codemirror_mode": {
    "name": "ipython",
    "version": 3
   },
   "file_extension": ".py",
   "mimetype": "text/x-python",
   "name": "python",
   "nbconvert_exporter": "python",
   "pygments_lexer": "ipython3",
   "version": "3.5.2"
  }
 },
 "nbformat": 4,
 "nbformat_minor": 2
}
