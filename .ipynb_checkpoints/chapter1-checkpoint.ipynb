{
 "cells": [
  {
   "cell_type": "markdown",
   "metadata": {},
   "source": [
    "# chapter 1\n",
    "\n",
    "## 机器学习善长：\n",
    "- 传统方法解决需要设计大量规则的问题\n",
    "- 传统方法无法解决的复杂问题\n",
    "- 需要不断适应新数据的问题\n",
    "- 发现复杂问题、大规模数据的内在规律\n",
    "\n",
    "## 分类\n",
    "- 监督学习 / 无监督学习 / 半监督学习 / 强化学习\n",
    "- 批量学习 / 在线学习\n",
    "- 实例学习 / 模型学习\n",
    "\n",
    "### 监督学习\n",
    "- k-NN\n",
    "- LR\n",
    "- SVM\n",
    "- DT、RF\n",
    "- NN\n",
    "\n",
    "### 非监督学习\n",
    "- 聚类：k-means、HCA、EM\n",
    "- 可视化、降维：PCA、KPCA、LLE、t-SNE\n",
    "- 关联性规则学习：Apriori、Eclat\n",
    "\n",
    "## 机器学习的难点\n",
    "\n",
    "### 数据：\n",
    "- 训练数据不充分\n",
    "- 训练数据不具代表性\n",
    "- 数据质量差\n",
    "- 不相干的特征\n",
    "\n",
    "### 算法：\n",
    "- 过拟合\n",
    "- 欠拟合\n",
    "\n",
    "## 测试\n",
    "- 训练集、测试集\n",
    "- 交叉验证"
   ]
  },
  {
   "cell_type": "code",
   "execution_count": null,
   "metadata": {
    "collapsed": true
   },
   "outputs": [],
   "source": []
  }
 ],
 "metadata": {
  "anaconda-cloud": {},
  "kernelspec": {
   "display_name": "Python [default]",
   "language": "python",
   "name": "python3"
  },
  "language_info": {
   "codemirror_mode": {
    "name": "ipython",
    "version": 3
   },
   "file_extension": ".py",
   "mimetype": "text/x-python",
   "name": "python",
   "nbconvert_exporter": "python",
   "pygments_lexer": "ipython3",
   "version": "3.5.2"
  }
 },
 "nbformat": 4,
 "nbformat_minor": 1
}
