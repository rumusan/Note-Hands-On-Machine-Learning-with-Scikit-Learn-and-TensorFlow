{
 "cells": [
  {
   "cell_type": "markdown",
   "metadata": {},
   "source": [
    "# Note-Hands On Machine Learning with Scikit-Learn and TensorFlow"
   ]
  },
  {
   "cell_type": "markdown",
   "metadata": {},
   "source": [
    "## 目录\n",
    "\n",
    "- [chpter 2](https://nbviewer.jupyter.org/github/rumusan/Note-Hands-On-Machine-Learning-with-Scikit-Learn-and-TensorFlow/blob/master/chapter2_book_code.ipynb)\n",
    "- [chpter 3](https://nbviewer.jupyter.org/github/rumusan/Note-Hands-On-Machine-Learning-with-Scikit-Learn-and-TensorFlow/blob/master/chapter3_book_code.ipynb)"
   ]
  },
  {
   "cell_type": "code",
   "execution_count": null,
   "metadata": {
    "collapsed": true
   },
   "outputs": [],
   "source": []
  }
 ],
 "metadata": {
  "anaconda-cloud": {},
  "kernelspec": {
   "display_name": "Python [default]",
   "language": "python",
   "name": "python3"
  },
  "language_info": {
   "codemirror_mode": {
    "name": "ipython",
    "version": 3
   },
   "file_extension": ".py",
   "mimetype": "text/x-python",
   "name": "python",
   "nbconvert_exporter": "python",
   "pygments_lexer": "ipython3",
   "version": "3.5.2"
  }
 },
 "nbformat": 4,
 "nbformat_minor": 1
}
